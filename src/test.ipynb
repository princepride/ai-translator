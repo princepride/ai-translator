{
 "cells": [
  {
   "cell_type": "markdown",
   "metadata": {},
   "source": [
    "# 第二次检测修复字符串"
   ]
  },
  {
   "cell_type": "code",
   "execution_count": 7,
   "metadata": {},
   "outputs": [],
   "source": [
    "from openai import OpenAI\n",
    "from dotenv import load_dotenv\n",
    "\n",
    "load_dotenv()\n",
    "client = OpenAI()\n",
    "original_language = \"English\"\n",
    "target_language = \"Vietnamese\"\n",
    "def generate_text(index, data):\n",
    "    try:\n",
    "        if str(data['备注']).strip() == 'SPECIAL VALUE' or str(data['备注']).strip() == 'SPECIAL VALUE, INCLUDE UPPERCASE LETTER' or str(data['备注']).strip() == '':\n",
    "            return index, str(data['待翻译(译)']).strip()\n",
    "        if str(data['参考语言(英文)']).strip().lower() != str(data['简体中文(源)']).strip().lower() and str(data['参考语言(英文)']).strip().lower() == str(data['待翻译(译)']).strip().lower():\n",
    "            completion = client.chat.completions.create(\n",
    "                model=\"gpt-4o-mini\",\n",
    "                messages=[\n",
    "                    {\"role\": \"system\", \"content\": f\"You are an expert in translating {original_language} to {target_language} for ERP systems. Your task is to translate markdown-formatted text from {original_language} to {target_language}. Preserving its formatting without adding extra content.\"},\n",
    "                    {\"role\": \"user\", \"content\": str(data['参考语言(英文)'])}\n",
    "                ],\n",
    "                temperature=0\n",
    "            )\n",
    "            return index, completion.choices[0].message.content\n",
    "        if str(data['参考语言(英文)']).strip().lower() == str(data['简体中文(源)']).strip().lower():\n",
    "            return index, str(data['参考语言(英文)']).strip()\n",
    "        else:\n",
    "            completion = client.chat.completions.create(\n",
    "                model=\"gpt-4o-mini\",\n",
    "                messages=[\n",
    "                    {\"role\": \"user\", \"content\": \"Translate English: The received L/G %s is not submitted \\nTo Spanish: El L/G recibido no se ha enviado. \\nPlease fix the translate error, because %s is missing, translate it directly and without adding any extra content.\"},\n",
    "                    {\"role\": \"assistant\", \"content\": \"El L/G recibido %s no se ha enviado.\"},\n",
    "                    {\"role\": \"user\", \"content\": f\"Translate {original_language}: {str(data['参考语言(英文)'])} \\nTo {target_language}: {str(data['待翻译(译)'])} \\n Please fix the translate error, Because {str(data['备注'])}. translate it directly and without adding any extra content.\"}\n",
    "                ],\n",
    "                temperature=0\n",
    "            )\n",
    "            return index, completion.choices[0].message.content\n",
    "    except:\n",
    "        return index, str(data['待翻译(译)']).strip()"
   ]
  },
  {
   "cell_type": "code",
   "execution_count": 8,
   "metadata": {},
   "outputs": [
    {
     "name": "stderr",
     "output_type": "stream",
     "text": [
      "100%|██████████| 124202/124202 [02:26<00:00, 849.76it/s] \n"
     ]
    }
   ],
   "source": [
    "from tqdm import tqdm\n",
    "from concurrent.futures import ThreadPoolExecutor, as_completed\n",
    "import pandas as pd\n",
    "to_fix = pd.read_excel(r\"D:\\Projects\\ai-translator\\special value\\first_check\\processed_files\\multilangInitData YS全量词条 20241119 Special Value_中_越.xlsx\")\n",
    "\n",
    "with ThreadPoolExecutor(max_workers=1000) as executor:\n",
    "    futures = {executor.submit(generate_text, index, row) for index, row in to_fix.iterrows()}\n",
    "\n",
    "    for future in tqdm(as_completed(futures), total=len(futures)):\n",
    "        index, output = future.result()\n",
    "\n",
    "        if output is not None:\n",
    "            to_fix.at[index, f'待翻译(译)'] = output\n",
    "\n",
    "to_fix['备注'] = \"\"\n",
    "# 保存最终结果到 Excel 文件\n",
    "to_fix.to_excel(r\"D:\\Projects\\ai-translator\\special value\\first_check\\processed_files\\multilangInitData YS全量词条 20241119 Special Value_中_越_processed.xlsx\", index=False)"
   ]
  },
  {
   "cell_type": "markdown",
   "metadata": {},
   "source": [
    "# 文件合并"
   ]
  },
  {
   "cell_type": "code",
   "execution_count": 2,
   "metadata": {},
   "outputs": [],
   "source": [
    "import pandas as pd\n",
    "\n",
    "original = \"英\"\n",
    "target = \"印尼\"\n",
    "# 定义要合并的 Excel 文件列表\n",
    "excel_files = [\n",
    "    f\"D:\\\\Projects\\\\ai-translator\\\\special value\\\\multilangInitData YS全量词条 20241119 Special Value_{original}_{target}_1_10000.xlsx\",\n",
    "    f\"D:\\\\Projects\\\\ai-translator\\\\special value\\\\multilangInitData YS全量词条 20241119 Special Value_{original}_{target}_10001_20000.xlsx\",\n",
    "    f\"D:\\\\Projects\\\\ai-translator\\\\special value\\\\multilangInitData YS全量词条 20241119 Special Value_{original}_{target}_20001_30000.xlsx\",\n",
    "    f\"D:\\\\Projects\\\\ai-translator\\\\special value\\\\multilangInitData YS全量词条 20241119 Special Value_{original}_{target}_30001_40000.xlsx\",\n",
    "    f\"D:\\\\Projects\\\\ai-translator\\\\special value\\\\multilangInitData YS全量词条 20241119 Special Value_{original}_{target}_40001_50000.xlsx\",\n",
    "    f\"D:\\\\Projects\\\\ai-translator\\\\special value\\\\multilangInitData YS全量词条 20241119 Special Value_{original}_{target}_50001_60000.xlsx\",\n",
    "    f\"D:\\\\Projects\\\\ai-translator\\\\special value\\\\multilangInitData YS全量词条 20241119 Special Value_{original}_{target}_60001_70000.xlsx\",\n",
    "    f\"D:\\\\Projects\\\\ai-translator\\\\special value\\\\multilangInitData YS全量词条 20241119 Special Value_{original}_{target}_70001_80000.xlsx\",\n",
    "    f\"D:\\\\Projects\\\\ai-translator\\\\special value\\\\multilangInitData YS全量词条 20241119 Special Value_{original}_{target}_80001_90000.xlsx\",\n",
    "    f\"D:\\\\Projects\\\\ai-translator\\\\special value\\\\multilangInitData YS全量词条 20241119 Special Value_{original}_{target}_90001_100000.xlsx\",\n",
    "    f\"D:\\\\Projects\\\\ai-translator\\\\special value\\\\multilangInitData YS全量词条 20241119 Special Value_{original}_{target}_100001_110000.xlsx\",\n",
    "    f\"D:\\\\Projects\\\\ai-translator\\\\special value\\\\multilangInitData YS全量词条 20241119 Special Value_{original}_{target}_110001_120000.xlsx\",\n",
    "    f\"D:\\\\Projects\\\\ai-translator\\\\special value\\\\multilangInitData YS全量词条 20241119 Special Value_{original}_{target}_120001_130000.xlsx\",\n",
    "]\n",
    "\n",
    "# 读取并合并所有 Excel 文件\n",
    "df_list = [pd.read_excel(file) for file in excel_files]\n",
    "merged_df = pd.concat(df_list, ignore_index=True)\n",
    "\n",
    "# 保存合并后的 DataFrame 到新的 Excel 文件\n",
    "merged_df.to_excel(f\"D:\\\\Projects\\\\ai-translator\\\\special value\\\\multilangInitData YS全量词条 20241119 Special Value_{original}_{target}.xlsx\", index=False)\n"
   ]
  }
 ],
 "metadata": {
  "kernelspec": {
   "display_name": "huggingface",
   "language": "python",
   "name": "python3"
  },
  "language_info": {
   "codemirror_mode": {
    "name": "ipython",
    "version": 3
   },
   "file_extension": ".py",
   "mimetype": "text/x-python",
   "name": "python",
   "nbconvert_exporter": "python",
   "pygments_lexer": "ipython3",
   "version": "3.11.7"
  }
 },
 "nbformat": 4,
 "nbformat_minor": 2
}

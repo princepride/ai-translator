{
 "cells": [
  {
   "cell_type": "markdown",
   "metadata": {},
   "source": [
    "# 文件合并"
   ]
  },
  {
   "cell_type": "code",
   "execution_count": 1,
   "metadata": {},
   "outputs": [
    {
     "ename": "FileCreateError",
     "evalue": "[WinError 2] 系统找不到指定的文件。: 'C:\\\\Users\\\\wangz\\\\AppData\\\\Local\\\\Temp\\\\tmp2dbjpq31'",
     "output_type": "error",
     "traceback": [
      "\u001b[1;31m---------------------------------------------------------------------------\u001b[0m",
      "\u001b[1;31mFileNotFoundError\u001b[0m                         Traceback (most recent call last)",
      "File \u001b[1;32md:\\Programs\\Anaconda3\\envs\\ai-trans\\lib\\site-packages\\xlsxwriter\\workbook.py:360\u001b[0m, in \u001b[0;36mWorkbook.close\u001b[1;34m(self)\u001b[0m\n\u001b[0;32m    359\u001b[0m \u001b[38;5;28;01mtry\u001b[39;00m:\n\u001b[1;32m--> 360\u001b[0m     \u001b[38;5;28;43mself\u001b[39;49m\u001b[38;5;241;43m.\u001b[39;49m\u001b[43m_store_workbook\u001b[49m\u001b[43m(\u001b[49m\u001b[43m)\u001b[49m\n\u001b[0;32m    361\u001b[0m \u001b[38;5;28;01mexcept\u001b[39;00m \u001b[38;5;167;01mIOError\u001b[39;00m \u001b[38;5;28;01mas\u001b[39;00m e:\n",
      "File \u001b[1;32md:\\Programs\\Anaconda3\\envs\\ai-trans\\lib\\site-packages\\xlsxwriter\\workbook.py:786\u001b[0m, in \u001b[0;36mWorkbook._store_workbook\u001b[1;34m(self)\u001b[0m\n\u001b[0;32m    785\u001b[0m timestamp \u001b[38;5;241m=\u001b[39m time\u001b[38;5;241m.\u001b[39mmktime((\u001b[38;5;241m1980\u001b[39m, \u001b[38;5;241m1\u001b[39m, \u001b[38;5;241m31\u001b[39m, \u001b[38;5;241m0\u001b[39m, \u001b[38;5;241m0\u001b[39m, \u001b[38;5;241m0\u001b[39m, \u001b[38;5;241m0\u001b[39m, \u001b[38;5;241m0\u001b[39m, \u001b[38;5;241m-\u001b[39m\u001b[38;5;241m1\u001b[39m))\n\u001b[1;32m--> 786\u001b[0m \u001b[43mos\u001b[49m\u001b[38;5;241;43m.\u001b[39;49m\u001b[43mutime\u001b[49m\u001b[43m(\u001b[49m\u001b[43mos_filename\u001b[49m\u001b[43m,\u001b[49m\u001b[43m \u001b[49m\u001b[43m(\u001b[49m\u001b[43mtimestamp\u001b[49m\u001b[43m,\u001b[49m\u001b[43m \u001b[49m\u001b[43mtimestamp\u001b[49m\u001b[43m)\u001b[49m\u001b[43m)\u001b[49m\n\u001b[0;32m    788\u001b[0m \u001b[38;5;28;01mtry\u001b[39;00m:\n",
      "\u001b[1;31mFileNotFoundError\u001b[0m: [WinError 2] 系统找不到指定的文件。: 'C:\\\\Users\\\\wangz\\\\AppData\\\\Local\\\\Temp\\\\tmp2dbjpq31'",
      "\nDuring handling of the above exception, another exception occurred:\n",
      "\u001b[1;31mFileCreateError\u001b[0m                           Traceback (most recent call last)",
      "Cell \u001b[1;32mIn[1], line 23\u001b[0m\n\u001b[0;32m     20\u001b[0m merged_df \u001b[38;5;241m=\u001b[39m pd\u001b[38;5;241m.\u001b[39mconcat(df_list, ignore_index\u001b[38;5;241m=\u001b[39m\u001b[38;5;28;01mTrue\u001b[39;00m)\n\u001b[0;32m     22\u001b[0m \u001b[38;5;66;03m# 保存合并后的 DataFrame 到新的 Excel 文件\u001b[39;00m\n\u001b[1;32m---> 23\u001b[0m \u001b[43mmerged_df\u001b[49m\u001b[38;5;241;43m.\u001b[39;49m\u001b[43mto_excel\u001b[49m\u001b[43m(\u001b[49m\u001b[38;5;124;43mr\u001b[39;49m\u001b[38;5;124;43m\"\u001b[39;49m\u001b[38;5;124;43mD:\u001b[39;49m\u001b[38;5;124;43m\\\u001b[39;49m\u001b[38;5;124;43mProjects\u001b[39;49m\u001b[38;5;124;43m\\\u001b[39;49m\u001b[38;5;124;43mai-translator\u001b[39;49m\u001b[38;5;124;43m\\\u001b[39;49m\u001b[38;5;124;43msrc\u001b[39;49m\u001b[38;5;124;43m\\\u001b[39;49m\u001b[38;5;124;43mmultilangInitData20250210空_translated.xlsx\u001b[39;49m\u001b[38;5;124;43m\"\u001b[39;49m\u001b[43m,\u001b[49m\u001b[43m \u001b[49m\u001b[43mindex\u001b[49m\u001b[38;5;241;43m=\u001b[39;49m\u001b[38;5;28;43;01mFalse\u001b[39;49;00m\u001b[43m)\u001b[49m\n",
      "File \u001b[1;32md:\\Programs\\Anaconda3\\envs\\ai-trans\\lib\\site-packages\\pandas\\util\\_decorators.py:333\u001b[0m, in \u001b[0;36mdeprecate_nonkeyword_arguments.<locals>.decorate.<locals>.wrapper\u001b[1;34m(*args, **kwargs)\u001b[0m\n\u001b[0;32m    327\u001b[0m \u001b[38;5;28;01mif\u001b[39;00m \u001b[38;5;28mlen\u001b[39m(args) \u001b[38;5;241m>\u001b[39m num_allow_args:\n\u001b[0;32m    328\u001b[0m     warnings\u001b[38;5;241m.\u001b[39mwarn(\n\u001b[0;32m    329\u001b[0m         msg\u001b[38;5;241m.\u001b[39mformat(arguments\u001b[38;5;241m=\u001b[39m_format_argument_list(allow_args)),\n\u001b[0;32m    330\u001b[0m         \u001b[38;5;167;01mFutureWarning\u001b[39;00m,\n\u001b[0;32m    331\u001b[0m         stacklevel\u001b[38;5;241m=\u001b[39mfind_stack_level(),\n\u001b[0;32m    332\u001b[0m     )\n\u001b[1;32m--> 333\u001b[0m \u001b[38;5;28;01mreturn\u001b[39;00m func(\u001b[38;5;241m*\u001b[39margs, \u001b[38;5;241m*\u001b[39m\u001b[38;5;241m*\u001b[39mkwargs)\n",
      "File \u001b[1;32md:\\Programs\\Anaconda3\\envs\\ai-trans\\lib\\site-packages\\pandas\\core\\generic.py:2417\u001b[0m, in \u001b[0;36mNDFrame.to_excel\u001b[1;34m(self, excel_writer, sheet_name, na_rep, float_format, columns, header, index, index_label, startrow, startcol, engine, merge_cells, inf_rep, freeze_panes, storage_options, engine_kwargs)\u001b[0m\n\u001b[0;32m   2404\u001b[0m \u001b[38;5;28;01mfrom\u001b[39;00m\u001b[38;5;250m \u001b[39m\u001b[38;5;21;01mpandas\u001b[39;00m\u001b[38;5;21;01m.\u001b[39;00m\u001b[38;5;21;01mio\u001b[39;00m\u001b[38;5;21;01m.\u001b[39;00m\u001b[38;5;21;01mformats\u001b[39;00m\u001b[38;5;21;01m.\u001b[39;00m\u001b[38;5;21;01mexcel\u001b[39;00m\u001b[38;5;250m \u001b[39m\u001b[38;5;28;01mimport\u001b[39;00m ExcelFormatter\n\u001b[0;32m   2406\u001b[0m formatter \u001b[38;5;241m=\u001b[39m ExcelFormatter(\n\u001b[0;32m   2407\u001b[0m     df,\n\u001b[0;32m   2408\u001b[0m     na_rep\u001b[38;5;241m=\u001b[39mna_rep,\n\u001b[1;32m   (...)\u001b[0m\n\u001b[0;32m   2415\u001b[0m     inf_rep\u001b[38;5;241m=\u001b[39minf_rep,\n\u001b[0;32m   2416\u001b[0m )\n\u001b[1;32m-> 2417\u001b[0m \u001b[43mformatter\u001b[49m\u001b[38;5;241;43m.\u001b[39;49m\u001b[43mwrite\u001b[49m\u001b[43m(\u001b[49m\n\u001b[0;32m   2418\u001b[0m \u001b[43m    \u001b[49m\u001b[43mexcel_writer\u001b[49m\u001b[43m,\u001b[49m\n\u001b[0;32m   2419\u001b[0m \u001b[43m    \u001b[49m\u001b[43msheet_name\u001b[49m\u001b[38;5;241;43m=\u001b[39;49m\u001b[43msheet_name\u001b[49m\u001b[43m,\u001b[49m\n\u001b[0;32m   2420\u001b[0m \u001b[43m    \u001b[49m\u001b[43mstartrow\u001b[49m\u001b[38;5;241;43m=\u001b[39;49m\u001b[43mstartrow\u001b[49m\u001b[43m,\u001b[49m\n\u001b[0;32m   2421\u001b[0m \u001b[43m    \u001b[49m\u001b[43mstartcol\u001b[49m\u001b[38;5;241;43m=\u001b[39;49m\u001b[43mstartcol\u001b[49m\u001b[43m,\u001b[49m\n\u001b[0;32m   2422\u001b[0m \u001b[43m    \u001b[49m\u001b[43mfreeze_panes\u001b[49m\u001b[38;5;241;43m=\u001b[39;49m\u001b[43mfreeze_panes\u001b[49m\u001b[43m,\u001b[49m\n\u001b[0;32m   2423\u001b[0m \u001b[43m    \u001b[49m\u001b[43mengine\u001b[49m\u001b[38;5;241;43m=\u001b[39;49m\u001b[43mengine\u001b[49m\u001b[43m,\u001b[49m\n\u001b[0;32m   2424\u001b[0m \u001b[43m    \u001b[49m\u001b[43mstorage_options\u001b[49m\u001b[38;5;241;43m=\u001b[39;49m\u001b[43mstorage_options\u001b[49m\u001b[43m,\u001b[49m\n\u001b[0;32m   2425\u001b[0m \u001b[43m    \u001b[49m\u001b[43mengine_kwargs\u001b[49m\u001b[38;5;241;43m=\u001b[39;49m\u001b[43mengine_kwargs\u001b[49m\u001b[43m,\u001b[49m\n\u001b[0;32m   2426\u001b[0m \u001b[43m\u001b[49m\u001b[43m)\u001b[49m\n",
      "File \u001b[1;32md:\\Programs\\Anaconda3\\envs\\ai-trans\\lib\\site-packages\\pandas\\io\\formats\\excel.py:962\u001b[0m, in \u001b[0;36mExcelFormatter.write\u001b[1;34m(self, writer, sheet_name, startrow, startcol, freeze_panes, engine, storage_options, engine_kwargs)\u001b[0m\n\u001b[0;32m    959\u001b[0m \u001b[38;5;28;01mfinally\u001b[39;00m:\n\u001b[0;32m    960\u001b[0m     \u001b[38;5;66;03m# make sure to close opened file handles\u001b[39;00m\n\u001b[0;32m    961\u001b[0m     \u001b[38;5;28;01mif\u001b[39;00m need_save:\n\u001b[1;32m--> 962\u001b[0m         \u001b[43mwriter\u001b[49m\u001b[38;5;241;43m.\u001b[39;49m\u001b[43mclose\u001b[49m\u001b[43m(\u001b[49m\u001b[43m)\u001b[49m\n",
      "File \u001b[1;32md:\\Programs\\Anaconda3\\envs\\ai-trans\\lib\\site-packages\\pandas\\io\\excel\\_base.py:1357\u001b[0m, in \u001b[0;36mExcelWriter.close\u001b[1;34m(self)\u001b[0m\n\u001b[0;32m   1355\u001b[0m \u001b[38;5;28;01mdef\u001b[39;00m\u001b[38;5;250m \u001b[39m\u001b[38;5;21mclose\u001b[39m(\u001b[38;5;28mself\u001b[39m) \u001b[38;5;241m-\u001b[39m\u001b[38;5;241m>\u001b[39m \u001b[38;5;28;01mNone\u001b[39;00m:\n\u001b[0;32m   1356\u001b[0m \u001b[38;5;250m    \u001b[39m\u001b[38;5;124;03m\"\"\"synonym for save, to make it more file-like\"\"\"\u001b[39;00m\n\u001b[1;32m-> 1357\u001b[0m     \u001b[38;5;28;43mself\u001b[39;49m\u001b[38;5;241;43m.\u001b[39;49m\u001b[43m_save\u001b[49m\u001b[43m(\u001b[49m\u001b[43m)\u001b[49m\n\u001b[0;32m   1358\u001b[0m     \u001b[38;5;28mself\u001b[39m\u001b[38;5;241m.\u001b[39m_handles\u001b[38;5;241m.\u001b[39mclose()\n",
      "File \u001b[1;32md:\\Programs\\Anaconda3\\envs\\ai-trans\\lib\\site-packages\\pandas\\io\\excel\\_xlsxwriter.py:239\u001b[0m, in \u001b[0;36mXlsxWriter._save\u001b[1;34m(self)\u001b[0m\n\u001b[0;32m    235\u001b[0m \u001b[38;5;28;01mdef\u001b[39;00m\u001b[38;5;250m \u001b[39m\u001b[38;5;21m_save\u001b[39m(\u001b[38;5;28mself\u001b[39m) \u001b[38;5;241m-\u001b[39m\u001b[38;5;241m>\u001b[39m \u001b[38;5;28;01mNone\u001b[39;00m:\n\u001b[0;32m    236\u001b[0m \u001b[38;5;250m    \u001b[39m\u001b[38;5;124;03m\"\"\"\u001b[39;00m\n\u001b[0;32m    237\u001b[0m \u001b[38;5;124;03m    Save workbook to disk.\u001b[39;00m\n\u001b[0;32m    238\u001b[0m \u001b[38;5;124;03m    \"\"\"\u001b[39;00m\n\u001b[1;32m--> 239\u001b[0m     \u001b[38;5;28;43mself\u001b[39;49m\u001b[38;5;241;43m.\u001b[39;49m\u001b[43mbook\u001b[49m\u001b[38;5;241;43m.\u001b[39;49m\u001b[43mclose\u001b[49m\u001b[43m(\u001b[49m\u001b[43m)\u001b[49m\n",
      "File \u001b[1;32md:\\Programs\\Anaconda3\\envs\\ai-trans\\lib\\site-packages\\xlsxwriter\\workbook.py:362\u001b[0m, in \u001b[0;36mWorkbook.close\u001b[1;34m(self)\u001b[0m\n\u001b[0;32m    360\u001b[0m     \u001b[38;5;28mself\u001b[39m\u001b[38;5;241m.\u001b[39m_store_workbook()\n\u001b[0;32m    361\u001b[0m \u001b[38;5;28;01mexcept\u001b[39;00m \u001b[38;5;167;01mIOError\u001b[39;00m \u001b[38;5;28;01mas\u001b[39;00m e:\n\u001b[1;32m--> 362\u001b[0m     \u001b[38;5;28;01mraise\u001b[39;00m FileCreateError(e)\n\u001b[0;32m    363\u001b[0m \u001b[38;5;28;01mexcept\u001b[39;00m LargeZipFile:\n\u001b[0;32m    364\u001b[0m     \u001b[38;5;28;01mraise\u001b[39;00m FileSizeError(\n\u001b[0;32m    365\u001b[0m         \u001b[38;5;124m\"\u001b[39m\u001b[38;5;124mFilesize would require ZIP64 extensions. \u001b[39m\u001b[38;5;124m\"\u001b[39m\n\u001b[0;32m    366\u001b[0m         \u001b[38;5;124m\"\u001b[39m\u001b[38;5;124mUse workbook.use_zip64().\u001b[39m\u001b[38;5;124m\"\u001b[39m\n\u001b[0;32m    367\u001b[0m     )\n",
      "\u001b[1;31mFileCreateError\u001b[0m: [WinError 2] 系统找不到指定的文件。: 'C:\\\\Users\\\\wangz\\\\AppData\\\\Local\\\\Temp\\\\tmp2dbjpq31'"
     ]
    }
   ],
   "source": [
    "import pandas as pd\n",
    "\n",
    "# 定义要合并的 Excel 文件列表\n",
    "excel_files = [\n",
    "    r\"C:\\Users\\wangz\\Downloads\\processed\\part_1_translated.xlsx\",\n",
    "    r\"C:\\Users\\wangz\\Downloads\\processed\\part_2_translated.xlsx\",\n",
    "    r\"C:\\Users\\wangz\\Downloads\\processed\\part_3_translated.xlsx\",\n",
    "    r\"C:\\Users\\wangz\\Downloads\\processed\\part_4_translated.xlsx\",\n",
    "    r\"C:\\Users\\wangz\\Downloads\\processed\\part_5_translated.xlsx\",\n",
    "    r\"C:\\Users\\wangz\\Downloads\\processed\\part_6_translated.xlsx\",\n",
    "    r\"C:\\Users\\wangz\\Downloads\\processed\\part_7_translated.xlsx\",\n",
    "    r\"C:\\Users\\wangz\\Downloads\\processed\\part_8_translated.xlsx\",\n",
    "    r\"C:\\Users\\wangz\\Downloads\\processed\\part_9_translated.xlsx\",\n",
    "    r\"C:\\Users\\wangz\\Downloads\\processed\\part_10_translated.xlsx\",\n",
    "    r\"C:\\Users\\wangz\\Downloads\\processed\\part_11_translated.xlsx\",\n",
    "]\n",
    "\n",
    "# 读取并合并所有 Excel 文件\n",
    "df_list = [pd.read_excel(file) for file in excel_files]\n",
    "merged_df = pd.concat(df_list, ignore_index=True)\n",
    "\n",
    "# 保存合并后的 DataFrame 到新的 Excel 文件\n",
    "merged_df.to_excel(r\"D:\\Projects\\ai-translator\\src\\multilangInitData20250210空_translated.xlsx\", index=False)\n"
   ]
  },
  {
   "cell_type": "markdown",
   "metadata": {},
   "source": [
    "# 文件拆分"
   ]
  },
  {
   "cell_type": "code",
   "execution_count": 2,
   "metadata": {},
   "outputs": [
    {
     "name": "stdout",
     "output_type": "stream",
     "text": [
      "正在读取Excel文件...\n",
      "Excel文件总行数: 221976 行\n",
      "已保存: /Users/princepride/Downloads/集成对象/part_1.xlsx\n",
      "已保存: /Users/princepride/Downloads/集成对象/part_2.xlsx\n",
      "已保存: /Users/princepride/Downloads/集成对象/part_3.xlsx\n",
      "拆分完成！\n"
     ]
    }
   ],
   "source": [
    "import os\n",
    "import pandas as pd\n",
    "\n",
    "def split_excel(input_file, output_folder, chunk_size=100000):\n",
    "    \"\"\"\n",
    "    将一个Excel文件按指定行数拆分为多个Excel文件，并存储到指定文件夹。\n",
    "\n",
    "    Args:\n",
    "        input_file (str): 输入的Excel文件路径。\n",
    "        output_folder (str): 输出文件夹路径。\n",
    "        chunk_size (int): 每个拆分Excel文件包含的最大行数，默认10万。\n",
    "    \"\"\"\n",
    "    # 检查输出文件夹是否存在，不存在则创建\n",
    "    if not os.path.exists(output_folder):\n",
    "        os.makedirs(output_folder)\n",
    "    \n",
    "    # 读取Excel文件（假设默认是Sheet1）\n",
    "    print(\"正在读取Excel文件...\")\n",
    "    excel_data = pd.read_excel(input_file, sheet_name=0)\n",
    "\n",
    "    # 获取总行数\n",
    "    total_rows = excel_data.shape[0]\n",
    "    print(f\"Excel文件总行数: {total_rows} 行\")\n",
    "\n",
    "    # 按chunk_size进行分割\n",
    "    for i in range(0, total_rows, chunk_size):\n",
    "        chunk = excel_data.iloc[i:i + chunk_size]  # 提取数据块\n",
    "        output_file = os.path.join(output_folder, f\"part_{i // chunk_size + 1}.xlsx\")\n",
    "        chunk.to_excel(output_file, index=False, engine='openpyxl')  # 保存为Excel\n",
    "        print(f\"已保存: {output_file}\")\n",
    "    \n",
    "    print(\"拆分完成！\")\n",
    "\n",
    "# 示例用法\n",
    "if __name__ == \"__main__\":\n",
    "    input_file = r\"/Users/princepride/Downloads/集成对象.xlsx\"  # 输入文件路径\n",
    "    output_folder = r\"/Users/princepride/Downloads/集成对象\"  # 输出文件夹路径\n",
    "    split_excel(input_file, output_folder)\n"
   ]
  },
  {
   "cell_type": "markdown",
   "metadata": {},
   "source": [
    "# 友互通翻译"
   ]
  },
  {
   "cell_type": "code",
   "execution_count": 1,
   "metadata": {},
   "outputs": [
    {
     "name": "stdout",
     "output_type": "stream",
     "text": [
      "印尼语\n"
     ]
    },
    {
     "name": "stderr",
     "output_type": "stream",
     "text": [
      "  0%|          | 0/18 [00:00<?, ?it/s]/var/folders/zq/y2z7yzsx6hzd7grnc7gwyj340000gn/T/ipykernel_8233/3807450194.py:90: FutureWarning: Setting an item of incompatible dtype is deprecated and will raise an error in a future version of pandas. Value 'ID Penyewa (Wajib)' has dtype incompatible with float64, please explicitly cast to a compatible dtype first.\n",
      "  to_fix.at[index, target_column] = output\n",
      "100%|██████████| 18/18 [00:02<00:00,  8.26it/s]\n"
     ]
    },
    {
     "name": "stdout",
     "output_type": "stream",
     "text": [
      "匈牙利语\n"
     ]
    },
    {
     "name": "stderr",
     "output_type": "stream",
     "text": [
      "  0%|          | 0/18 [00:00<?, ?it/s]/var/folders/zq/y2z7yzsx6hzd7grnc7gwyj340000gn/T/ipykernel_8233/3807450194.py:90: FutureWarning: Setting an item of incompatible dtype is deprecated and will raise an error in a future version of pandas. Value 'SSO kulcs' has dtype incompatible with float64, please explicitly cast to a compatible dtype first.\n",
      "  to_fix.at[index, target_column] = output\n",
      "100%|██████████| 18/18 [00:01<00:00,  9.24it/s]\n"
     ]
    },
    {
     "name": "stdout",
     "output_type": "stream",
     "text": [
      "葡萄牙语\n"
     ]
    },
    {
     "name": "stderr",
     "output_type": "stream",
     "text": [
      "  0%|          | 0/18 [00:00<?, ?it/s]/var/folders/zq/y2z7yzsx6hzd7grnc7gwyj340000gn/T/ipykernel_8233/3807450194.py:90: FutureWarning: Setting an item of incompatible dtype is deprecated and will raise an error in a future version of pandas. Value 'Falha na análise da senha' has dtype incompatible with float64, please explicitly cast to a compatible dtype first.\n",
      "  to_fix.at[index, target_column] = output\n",
      "100%|██████████| 18/18 [00:01<00:00, 11.11it/s]\n"
     ]
    },
    {
     "name": "stdout",
     "output_type": "stream",
     "text": [
      "泰语\n"
     ]
    },
    {
     "name": "stderr",
     "output_type": "stream",
     "text": [
      "  0%|          | 0/18 [00:00<?, ?it/s]/var/folders/zq/y2z7yzsx6hzd7grnc7gwyj340000gn/T/ipykernel_8233/3807450194.py:90: FutureWarning: Setting an item of incompatible dtype is deprecated and will raise an error in a future version of pandas. Value 'ผู้ใช้ที่เข้าสู่ระบบปัจจุบัน:' has dtype incompatible with float64, please explicitly cast to a compatible dtype first.\n",
      "  to_fix.at[index, target_column] = output\n",
      "100%|██████████| 18/18 [00:01<00:00, 11.15it/s]\n"
     ]
    },
    {
     "name": "stdout",
     "output_type": "stream",
     "text": [
      "土耳其语\n"
     ]
    },
    {
     "name": "stderr",
     "output_type": "stream",
     "text": [
      "  0%|          | 0/18 [00:00<?, ?it/s]/var/folders/zq/y2z7yzsx6hzd7grnc7gwyj340000gn/T/ipykernel_8233/3807450194.py:90: FutureWarning: Setting an item of incompatible dtype is deprecated and will raise an error in a future version of pandas. Value 'SSO Anahtarı' has dtype incompatible with float64, please explicitly cast to a compatible dtype first.\n",
      "  to_fix.at[index, target_column] = output\n",
      "100%|██████████| 18/18 [00:01<00:00,  9.34it/s]\n"
     ]
    },
    {
     "name": "stdout",
     "output_type": "stream",
     "text": [
      "越南语\n"
     ]
    },
    {
     "name": "stderr",
     "output_type": "stream",
     "text": [
      "  0%|          | 0/18 [00:00<?, ?it/s]/var/folders/zq/y2z7yzsx6hzd7grnc7gwyj340000gn/T/ipykernel_8233/3807450194.py:90: FutureWarning: Setting an item of incompatible dtype is deprecated and will raise an error in a future version of pandas. Value 'Đăng nhập SSO tài khoản' has dtype incompatible with float64, please explicitly cast to a compatible dtype first.\n",
      "  to_fix.at[index, target_column] = output\n",
      "100%|██████████| 18/18 [00:01<00:00, 11.86it/s]\n"
     ]
    },
    {
     "name": "stdout",
     "output_type": "stream",
     "text": [
      "俄语\n"
     ]
    },
    {
     "name": "stderr",
     "output_type": "stream",
     "text": [
      "  0%|          | 0/18 [00:00<?, ?it/s]/var/folders/zq/y2z7yzsx6hzd7grnc7gwyj340000gn/T/ipykernel_8233/3807450194.py:90: FutureWarning: Setting an item of incompatible dtype is deprecated and will raise an error in a future version of pandas. Value 'Ключ SSO' has dtype incompatible with float64, please explicitly cast to a compatible dtype first.\n",
      "  to_fix.at[index, target_column] = output\n",
      "100%|██████████| 18/18 [00:01<00:00, 12.15it/s]\n"
     ]
    },
    {
     "name": "stdout",
     "output_type": "stream",
     "text": [
      "阿拉伯语\n"
     ]
    },
    {
     "name": "stderr",
     "output_type": "stream",
     "text": [
      "  0%|          | 0/18 [00:00<?, ?it/s]/var/folders/zq/y2z7yzsx6hzd7grnc7gwyj340000gn/T/ipykernel_8233/3807450194.py:90: FutureWarning: Setting an item of incompatible dtype is deprecated and will raise an error in a future version of pandas. Value 'انتهت صلاحية الرابط' has dtype incompatible with float64, please explicitly cast to a compatible dtype first.\n",
      "  to_fix.at[index, target_column] = output\n",
      "100%|██████████| 18/18 [00:02<00:00,  7.72it/s]\n"
     ]
    },
    {
     "name": "stdout",
     "output_type": "stream",
     "text": [
      "芬兰语\n"
     ]
    },
    {
     "name": "stderr",
     "output_type": "stream",
     "text": [
      "  0%|          | 0/18 [00:00<?, ?it/s]/var/folders/zq/y2z7yzsx6hzd7grnc7gwyj340000gn/T/ipykernel_8233/3807450194.py:90: FutureWarning: Setting an item of incompatible dtype is deprecated and will raise an error in a future version of pandas. Value 'Tilin SSO-kirjautuminen' has dtype incompatible with float64, please explicitly cast to a compatible dtype first.\n",
      "  to_fix.at[index, target_column] = output\n",
      "100%|██████████| 18/18 [00:02<00:00,  8.43it/s]\n"
     ]
    },
    {
     "name": "stdout",
     "output_type": "stream",
     "text": [
      "丹麦语\n"
     ]
    },
    {
     "name": "stderr",
     "output_type": "stream",
     "text": [
      "  0%|          | 0/18 [00:00<?, ?it/s]/var/folders/zq/y2z7yzsx6hzd7grnc7gwyj340000gn/T/ipykernel_8233/3807450194.py:90: FutureWarning: Setting an item of incompatible dtype is deprecated and will raise an error in a future version of pandas. Value 'Aktuel logget ind bruger:' has dtype incompatible with float64, please explicitly cast to a compatible dtype first.\n",
      "  to_fix.at[index, target_column] = output\n",
      "100%|██████████| 18/18 [00:01<00:00, 13.73it/s]\n"
     ]
    },
    {
     "name": "stdout",
     "output_type": "stream",
     "text": [
      "荷兰语\n"
     ]
    },
    {
     "name": "stderr",
     "output_type": "stream",
     "text": [
      "  0%|          | 0/18 [00:00<?, ?it/s]/var/folders/zq/y2z7yzsx6hzd7grnc7gwyj340000gn/T/ipykernel_8233/3807450194.py:90: FutureWarning: Setting an item of incompatible dtype is deprecated and will raise an error in a future version of pandas. Value 'Huurder-gebruiker relatie bestaat niet' has dtype incompatible with float64, please explicitly cast to a compatible dtype first.\n",
      "  to_fix.at[index, target_column] = output\n",
      "100%|██████████| 18/18 [00:02<00:00,  7.82it/s]\n"
     ]
    },
    {
     "name": "stdout",
     "output_type": "stream",
     "text": [
      "波兰语\n"
     ]
    },
    {
     "name": "stderr",
     "output_type": "stream",
     "text": [
      "  0%|          | 0/18 [00:00<?, ?it/s]/var/folders/zq/y2z7yzsx6hzd7grnc7gwyj340000gn/T/ipykernel_8233/3807450194.py:90: FutureWarning: Setting an item of incompatible dtype is deprecated and will raise an error in a future version of pandas. Value 'Link wygasł.' has dtype incompatible with float64, please explicitly cast to a compatible dtype first.\n",
      "  to_fix.at[index, target_column] = output\n",
      "100%|██████████| 18/18 [00:01<00:00, 10.72it/s]\n"
     ]
    },
    {
     "name": "stdout",
     "output_type": "stream",
     "text": [
      "法语\n"
     ]
    },
    {
     "name": "stderr",
     "output_type": "stream",
     "text": [
      "  0%|          | 0/18 [00:00<?, ?it/s]/var/folders/zq/y2z7yzsx6hzd7grnc7gwyj340000gn/T/ipykernel_8233/3807450194.py:90: FutureWarning: Setting an item of incompatible dtype is deprecated and will raise an error in a future version of pandas. Value 'Le lien a expiré.' has dtype incompatible with float64, please explicitly cast to a compatible dtype first.\n",
      "  to_fix.at[index, target_column] = output\n",
      "100%|██████████| 18/18 [00:01<00:00, 12.93it/s]\n"
     ]
    },
    {
     "name": "stdout",
     "output_type": "stream",
     "text": [
      "德语\n"
     ]
    },
    {
     "name": "stderr",
     "output_type": "stream",
     "text": [
      "  0%|          | 0/18 [00:00<?, ?it/s]/var/folders/zq/y2z7yzsx6hzd7grnc7gwyj340000gn/T/ipykernel_8233/3807450194.py:90: FutureWarning: Setting an item of incompatible dtype is deprecated and will raise an error in a future version of pandas. Value 'Mieter-ID (Erforderlich)' has dtype incompatible with float64, please explicitly cast to a compatible dtype first.\n",
      "  to_fix.at[index, target_column] = output\n",
      "100%|██████████| 18/18 [00:01<00:00,  9.58it/s]\n"
     ]
    },
    {
     "name": "stdout",
     "output_type": "stream",
     "text": [
      "日语\n"
     ]
    },
    {
     "name": "stderr",
     "output_type": "stream",
     "text": [
      "  0%|          | 0/18 [00:00<?, ?it/s]/var/folders/zq/y2z7yzsx6hzd7grnc7gwyj340000gn/T/ipykernel_8233/3807450194.py:90: FutureWarning: Setting an item of incompatible dtype is deprecated and will raise an error in a future version of pandas. Value 'SSOキー' has dtype incompatible with float64, please explicitly cast to a compatible dtype first.\n",
      "  to_fix.at[index, target_column] = output\n",
      "100%|██████████| 18/18 [00:01<00:00, 12.95it/s]\n"
     ]
    },
    {
     "name": "stdout",
     "output_type": "stream",
     "text": [
      "挪威语\n"
     ]
    },
    {
     "name": "stderr",
     "output_type": "stream",
     "text": [
      "  0%|          | 0/18 [00:00<?, ?it/s]/var/folders/zq/y2z7yzsx6hzd7grnc7gwyj340000gn/T/ipykernel_8233/3807450194.py:90: FutureWarning: Setting an item of incompatible dtype is deprecated and will raise an error in a future version of pandas. Value 'SSO-nøkkel' has dtype incompatible with float64, please explicitly cast to a compatible dtype first.\n",
      "  to_fix.at[index, target_column] = output\n",
      "100%|██████████| 18/18 [00:01<00:00,  9.84it/s]\n"
     ]
    },
    {
     "name": "stdout",
     "output_type": "stream",
     "text": [
      "希伯来语\n"
     ]
    },
    {
     "name": "stderr",
     "output_type": "stream",
     "text": [
      "  0%|          | 0/18 [00:00<?, ?it/s]/var/folders/zq/y2z7yzsx6hzd7grnc7gwyj340000gn/T/ipykernel_8233/3807450194.py:90: FutureWarning: Setting an item of incompatible dtype is deprecated and will raise an error in a future version of pandas. Value 'מפתח SSO אינו קיים או שפג תוקפו.' has dtype incompatible with float64, please explicitly cast to a compatible dtype first.\n",
      "  to_fix.at[index, target_column] = output\n",
      "100%|██████████| 18/18 [00:02<00:00,  7.84it/s]\n"
     ]
    },
    {
     "name": "stdout",
     "output_type": "stream",
     "text": [
      "韩语\n"
     ]
    },
    {
     "name": "stderr",
     "output_type": "stream",
     "text": [
      "  0%|          | 0/18 [00:00<?, ?it/s]/var/folders/zq/y2z7yzsx6hzd7grnc7gwyj340000gn/T/ipykernel_8233/3807450194.py:90: FutureWarning: Setting an item of incompatible dtype is deprecated and will raise an error in a future version of pandas. Value '임대인 ID(필수)' has dtype incompatible with float64, please explicitly cast to a compatible dtype first.\n",
      "  to_fix.at[index, target_column] = output\n",
      "100%|██████████| 18/18 [00:02<00:00,  8.35it/s]\n"
     ]
    },
    {
     "name": "stdout",
     "output_type": "stream",
     "text": [
      "西班牙语\n"
     ]
    },
    {
     "name": "stderr",
     "output_type": "stream",
     "text": [
      "  0%|          | 0/18 [00:00<?, ?it/s]/var/folders/zq/y2z7yzsx6hzd7grnc7gwyj340000gn/T/ipykernel_8233/3807450194.py:90: FutureWarning: Setting an item of incompatible dtype is deprecated and will raise an error in a future version of pandas. Value 'No hay ningún usuario conectado actualmente.' has dtype incompatible with float64, please explicitly cast to a compatible dtype first.\n",
      "  to_fix.at[index, target_column] = output\n",
      "100%|██████████| 18/18 [00:03<00:00,  4.83it/s]\n"
     ]
    },
    {
     "name": "stdout",
     "output_type": "stream",
     "text": [
      "捷克语\n"
     ]
    },
    {
     "name": "stderr",
     "output_type": "stream",
     "text": [
      "  0%|          | 0/18 [00:00<?, ?it/s]/var/folders/zq/y2z7yzsx6hzd7grnc7gwyj340000gn/T/ipykernel_8233/3807450194.py:90: FutureWarning: Setting an item of incompatible dtype is deprecated and will raise an error in a future version of pandas. Value 'SSO klíč' has dtype incompatible with float64, please explicitly cast to a compatible dtype first.\n",
      "  to_fix.at[index, target_column] = output\n",
      "100%|██████████| 18/18 [00:02<00:00,  6.60it/s]\n"
     ]
    },
    {
     "name": "stdout",
     "output_type": "stream",
     "text": [
      "意大利语\n"
     ]
    },
    {
     "name": "stderr",
     "output_type": "stream",
     "text": [
      "  0%|          | 0/18 [00:00<?, ?it/s]/var/folders/zq/y2z7yzsx6hzd7grnc7gwyj340000gn/T/ipykernel_8233/3807450194.py:90: FutureWarning: Setting an item of incompatible dtype is deprecated and will raise an error in a future version of pandas. Value 'La relazione tra inquilino e utente non esiste.' has dtype incompatible with float64, please explicitly cast to a compatible dtype first.\n",
      "  to_fix.at[index, target_column] = output\n",
      "100%|██████████| 18/18 [00:01<00:00, 12.45it/s]\n"
     ]
    },
    {
     "name": "stdout",
     "output_type": "stream",
     "text": [
      "瑞典语\n"
     ]
    },
    {
     "name": "stderr",
     "output_type": "stream",
     "text": [
      "  0%|          | 0/18 [00:00<?, ?it/s]/var/folders/zq/y2z7yzsx6hzd7grnc7gwyj340000gn/T/ipykernel_8233/3807450194.py:90: FutureWarning: Setting an item of incompatible dtype is deprecated and will raise an error in a future version of pandas. Value 'Aktuell inloggad användare:' has dtype incompatible with float64, please explicitly cast to a compatible dtype first.\n",
      "  to_fix.at[index, target_column] = output\n",
      "100%|██████████| 18/18 [00:02<00:00,  8.80it/s]\n"
     ]
    },
    {
     "name": "stdout",
     "output_type": "stream",
     "text": [
      "希腊语\n"
     ]
    },
    {
     "name": "stderr",
     "output_type": "stream",
     "text": [
      "  0%|          | 0/18 [00:00<?, ?it/s]/var/folders/zq/y2z7yzsx6hzd7grnc7gwyj340000gn/T/ipykernel_8233/3807450194.py:90: FutureWarning: Setting an item of incompatible dtype is deprecated and will raise an error in a future version of pandas. Value 'SSO Κλειδί' has dtype incompatible with float64, please explicitly cast to a compatible dtype first.\n",
      "  to_fix.at[index, target_column] = output\n",
      "100%|██████████| 18/18 [00:02<00:00,  8.50it/s]\n"
     ]
    },
    {
     "name": "stdout",
     "output_type": "stream",
     "text": [
      "马来语\n"
     ]
    },
    {
     "name": "stderr",
     "output_type": "stream",
     "text": [
      "  0%|          | 0/18 [00:00<?, ?it/s]/var/folders/zq/y2z7yzsx6hzd7grnc7gwyj340000gn/T/ipykernel_8233/3807450194.py:90: FutureWarning: Setting an item of incompatible dtype is deprecated and will raise an error in a future version of pandas. Value 'Emel pengguna yang sedang log masuk:' has dtype incompatible with float64, please explicitly cast to a compatible dtype first.\n",
      "  to_fix.at[index, target_column] = output\n",
      "100%|██████████| 18/18 [00:01<00:00, 13.27it/s]\n"
     ]
    },
    {
     "name": "stdout",
     "output_type": "stream",
     "text": [
      "斯洛伐克语\n"
     ]
    },
    {
     "name": "stderr",
     "output_type": "stream",
     "text": [
      "  0%|          | 0/18 [00:00<?, ?it/s]/var/folders/zq/y2z7yzsx6hzd7grnc7gwyj340000gn/T/ipykernel_8233/3807450194.py:90: FutureWarning: Setting an item of incompatible dtype is deprecated and will raise an error in a future version of pandas. Value 'SSO kľúč' has dtype incompatible with float64, please explicitly cast to a compatible dtype first.\n",
      "  to_fix.at[index, target_column] = output\n",
      "100%|██████████| 18/18 [00:02<00:00,  8.80it/s]\n"
     ]
    },
    {
     "name": "stdout",
     "output_type": "stream",
     "text": [
      "柬埔寨语\n"
     ]
    },
    {
     "name": "stderr",
     "output_type": "stream",
     "text": [
      "  0%|          | 0/18 [00:00<?, ?it/s]/var/folders/zq/y2z7yzsx6hzd7grnc7gwyj340000gn/T/ipykernel_8233/3807450194.py:90: FutureWarning: Setting an item of incompatible dtype is deprecated and will raise an error in a future version of pandas. Value 'SSO គន្លង' has dtype incompatible with float64, please explicitly cast to a compatible dtype first.\n",
      "  to_fix.at[index, target_column] = output\n",
      "100%|██████████| 18/18 [00:01<00:00,  9.21it/s]\n"
     ]
    },
    {
     "name": "stdout",
     "output_type": "stream",
     "text": [
      "罗马尼亚语\n"
     ]
    },
    {
     "name": "stderr",
     "output_type": "stream",
     "text": [
      "  0%|          | 0/18 [00:00<?, ?it/s]/var/folders/zq/y2z7yzsx6hzd7grnc7gwyj340000gn/T/ipykernel_8233/3807450194.py:90: FutureWarning: Setting an item of incompatible dtype is deprecated and will raise an error in a future version of pandas. Value 'Cheie SSO' has dtype incompatible with float64, please explicitly cast to a compatible dtype first.\n",
      "  to_fix.at[index, target_column] = output\n",
      "100%|██████████| 18/18 [00:01<00:00, 11.72it/s]\n"
     ]
    },
    {
     "name": "stdout",
     "output_type": "stream",
     "text": [
      "克罗地亚语\n"
     ]
    },
    {
     "name": "stderr",
     "output_type": "stream",
     "text": [
      "  0%|          | 0/18 [00:00<?, ?it/s]/var/folders/zq/y2z7yzsx6hzd7grnc7gwyj340000gn/T/ipykernel_8233/3807450194.py:90: FutureWarning: Setting an item of incompatible dtype is deprecated and will raise an error in a future version of pandas. Value 'Prijava na račun SSO' has dtype incompatible with float64, please explicitly cast to a compatible dtype first.\n",
      "  to_fix.at[index, target_column] = output\n",
      "100%|██████████| 18/18 [00:01<00:00, 11.01it/s]\n"
     ]
    },
    {
     "name": "stdout",
     "output_type": "stream",
     "text": [
      "乌兹别克语\n"
     ]
    },
    {
     "name": "stderr",
     "output_type": "stream",
     "text": [
      "  0%|          | 0/18 [00:00<?, ?it/s]/var/folders/zq/y2z7yzsx6hzd7grnc7gwyj340000gn/T/ipykernel_8233/3807450194.py:90: FutureWarning: Setting an item of incompatible dtype is deprecated and will raise an error in a future version of pandas. Value 'Joriy kirilgan foydalanuvchining mobil raqami:' has dtype incompatible with float64, please explicitly cast to a compatible dtype first.\n",
      "  to_fix.at[index, target_column] = output\n",
      "100%|██████████| 18/18 [00:01<00:00,  9.25it/s]\n"
     ]
    },
    {
     "name": "stdout",
     "output_type": "stream",
     "text": [
      "缅甸语\n"
     ]
    },
    {
     "name": "stderr",
     "output_type": "stream",
     "text": [
      "  0%|          | 0/18 [00:00<?, ?it/s]/var/folders/zq/y2z7yzsx6hzd7grnc7gwyj340000gn/T/ipykernel_8233/3807450194.py:90: FutureWarning: Setting an item of incompatible dtype is deprecated and will raise an error in a future version of pandas. Value 'အငှားသူ ID (လိုအပ်သည်)' has dtype incompatible with float64, please explicitly cast to a compatible dtype first.\n",
      "  to_fix.at[index, target_column] = output\n",
      "100%|██████████| 18/18 [00:02<00:00,  7.57it/s]\n"
     ]
    }
   ],
   "source": [
    "from openai import OpenAI\n",
    "from dotenv import load_dotenv\n",
    "import zhconv\n",
    "\n",
    "load_dotenv()\n",
    "client = OpenAI()\n",
    "target_columns = [\n",
    "    # \"繁體中文\",\n",
    "    \"印尼语\",\n",
    "    \"匈牙利语\",\n",
    "    \"葡萄牙语\",\n",
    "    \"泰语\",\n",
    "    \"土耳其语\",\n",
    "    \"越南语\",\n",
    "    \"俄语\",\n",
    "    \"阿拉伯语\",\n",
    "    \"芬兰语\",\n",
    "    \"丹麦语\",\n",
    "    \"荷兰语\",\n",
    "    \"波兰语\",\n",
    "    \"法语\",\n",
    "    \"德语\",\n",
    "    \"日语\",\n",
    "    \"挪威语\",\n",
    "    \"希伯来语\",\n",
    "    \"韩语\",\n",
    "    \"西班牙语\",\n",
    "    \"捷克语\",\n",
    "    \"意大利语\",\n",
    "    \"瑞典语\",\n",
    "    \"希腊语\",\n",
    "    \"马来语\",\n",
    "    \"斯洛伐克语\",\n",
    "    \"柬埔寨语\",\n",
    "    \"罗马尼亚语\",\n",
    "    \"克罗地亚语\",\n",
    "    \"乌兹别克语\",\n",
    "    \"缅甸语\"\n",
    "]\n",
    "\n",
    "simple_column_name = \"简体中文(源)\"\n",
    "english_column_name = \"English\"\n",
    "trans_column_name = \"繁體中文\"\n",
    "\n",
    "for target_column in target_columns:\n",
    "    print(target_column)\n",
    "    dictionary = {}\n",
    "\n",
    "    def generate_text(index, data):\n",
    "        if not pd.isnull(data[target_column]):\n",
    "            dictionary[str(data[english_column_name])] = data[target_column]\n",
    "            return index, data[target_column]\n",
    "        if str(data[english_column_name]) in dictionary.keys():\n",
    "            return index, dictionary[str(data[english_column_name])]\n",
    "        if target_column == trans_column_name:\n",
    "            return index, zhconv.convert(str(data[simple_column_name]), 'zh-tw')\n",
    "        completion = client.chat.completions.create(\n",
    "            model='gpt-4o-mini',\n",
    "            messages=[\n",
    "                {\"role\": \"user\", \"content\": f\"Translate the following sentence or word from English to {simple_column_name}: {str(data[english_column_name])}, please directly translate it and do not output any extra content\"},\n",
    "                {\"role\": \"assistant\", \"content\": str(data[simple_column_name])},\n",
    "                {\"role\": \"user\", \"content\": f\"Translate the following sentence or word from English to {trans_column_name}: {str(data[english_column_name])}, please directly translate it and do not output any extra content\"},\n",
    "                {\"role\": \"assistant\", \"content\": zhconv.convert(str(data[simple_column_name]), 'zh-tw')},\n",
    "                {\"role\": \"user\", \"content\": f\"Translate the following sentence or word from English to {target_column}: {str(data[english_column_name])}, please directly translate it and do not output any extra content\"}\n",
    "            ],\n",
    "            # messages=[\n",
    "            #     {\"role\": \"user\", \"content\": f\"Translate the following sentence from Chinese to {english_column_name}: {str(data[simple_column_name])}, please directly translate it and do not output any extra content\"},\n",
    "            #     {\"role\": \"assistant\", \"content\": str(data[english_column_name])},\n",
    "            #     {\"role\": \"user\", \"content\": f\"Translate the following sentence from Chinese to {trans_column_name}: {str(data[simple_column_name])}, please directly translate it and do not output any extra content\"},\n",
    "            #     {\"role\": \"assistant\", \"content\": str(data[trans_column_name])},\n",
    "            #     {\"role\": \"user\", \"content\": f\"Translate the following sentence from Chinese to {target_column}: {str(data[simple_column_name])}, please directly translate it and do not output any extra content\"}\n",
    "            # ],\n",
    "            temperature=0\n",
    "        )\n",
    "        dictionary[str(data[english_column_name])] = completion.choices[0].message.content\n",
    "        return index, completion.choices[0].message.content\n",
    "\n",
    "    from tqdm import tqdm\n",
    "    from concurrent.futures import ThreadPoolExecutor, as_completed\n",
    "    import pandas as pd\n",
    "    to_fix = pd.read_excel(r\"/Users/princepride/Downloads/友户通-新增词条-需要翻译-33种-20250802.xlsx\")\n",
    "\n",
    "    with ThreadPoolExecutor(max_workers=1000) as executor:\n",
    "        futures = {executor.submit(generate_text, index, row) for index, row in to_fix.iterrows()}\n",
    "\n",
    "        for future in tqdm(as_completed(futures), total=len(futures)):\n",
    "            index, output = future.result()\n",
    "\n",
    "            if output is not None:\n",
    "                to_fix.at[index, target_column] = output\n",
    "\n",
    "    # 保存最终结果到 Excel 文件\n",
    "    to_fix.to_excel(r\"/Users/princepride/Downloads/友户通-新增词条-需要翻译-33种-20250802.xlsx\", index=False)"
   ]
  },
  {
   "cell_type": "markdown",
   "metadata": {},
   "source": [
    "# PDF翻译"
   ]
  },
  {
   "cell_type": "code",
   "execution_count": 1,
   "metadata": {},
   "outputs": [
    {
     "name": "stdout",
     "output_type": "stream",
     "text": [
      "not in git repo\n",
      "Namespace(files=['/Users/princepride/Downloads/2025用友大型企业客户成功服务画册（电子版）.pdf'], debug=False, pages=None, vfont='', vchar='', lang_in='zh', lang_out='en', service='openai', output='', thread=4, interactive=False, share=False, flask=False, celery=False, authorized=None, prompt=None, compatible=False, onnx=None, serverport=None, dir=False, config=None, babeldoc=False, skip_subset_fonts=False, ignore_cache=False, mcp=False, sse=False)\n",
      "\u001b[2;36m[07/31/25 17:52:38]\u001b[0m\u001b[2;36m \u001b[0m\u001b[34mINFO    \u001b[0m INFO:pdf2zh.high_level:use font:  \u001b]8;id=75715;file:///opt/miniconda3/envs/ai-trans/lib/python3.12/site-packages/pdf2zh/high_level.py\u001b\\\u001b[2mhigh_level.py\u001b[0m\u001b]8;;\u001b\\\u001b[2m:\u001b[0m\u001b]8;id=830752;file:///opt/miniconda3/envs/ai-trans/lib/python3.12/site-packages/pdf2zh/high_level.py#423\u001b\\\u001b[2m423\u001b[0m\u001b]8;;\u001b\\\n",
      "\u001b[2;36m                    \u001b[0m         \u001b[35m/Users/princepride/.cache/babeldo\u001b[0m \u001b[2m                 \u001b[0m\n",
      "\u001b[2;36m                    \u001b[0m         \u001b[35mc/fonts/\u001b[0m\u001b[95mGoNotoKurrent-Regular.ttf\u001b[0m \u001b[2m                 \u001b[0m\n",
      "100%|███████████████████████████████████████████| 41/41 [00:51<00:00,  1.25s/it]\n",
      "MuPDF error: syntax error: unknown keyword: '3.359537727624722e'\n",
      "\n",
      "MuPDF error: syntax error: unknown keyword: '3.359537727624722e'\n",
      "\n",
      "MuPDF error: syntax error: unknown keyword: '4.984051036706414e'\n",
      "\n",
      "MuPDF error: syntax error: unknown keyword: '4.984051036706414e'\n",
      "\n",
      "MuPDF error: syntax error: unknown keyword: '3.9503831871880175e'\n",
      "\n",
      "MuPDF error: syntax error: unknown keyword: '3.359537727624722e'\n",
      "\n",
      "MuPDF error: syntax error: unknown keyword: '3.359537727624722e'\n",
      "\n",
      "MuPDF error: syntax error: unknown keyword: '4.984051036706414e'\n",
      "\n",
      "MuPDF error: syntax error: unknown keyword: '4.984051036706414e'\n",
      "\n",
      "MuPDF error: syntax error: unknown keyword: '3.9503831871880175e'\n",
      "\n"
     ]
    }
   ],
   "source": [
    "from dotenv import load_dotenv\n",
    "load_dotenv()\n",
    "\n",
    "!pdf2zh \"/Users/princepride/Downloads/2025用友大型企业客户成功服务画册（电子版）.pdf\" -li zh -lo en -s openai"
   ]
  },
  {
   "cell_type": "markdown",
   "metadata": {},
   "source": [
    "# 术语表合并"
   ]
  },
  {
   "cell_type": "code",
   "execution_count": null,
   "metadata": {},
   "outputs": [
    {
     "name": "stdout",
     "output_type": "stream",
     "text": [
      "术语表已合并，保存至: new_glossary.xlsx\n"
     ]
    },
    {
     "data": {
      "text/html": [
       "<div>\n",
       "<style scoped>\n",
       "    .dataframe tbody tr th:only-of-type {\n",
       "        vertical-align: middle;\n",
       "    }\n",
       "\n",
       "    .dataframe tbody tr th {\n",
       "        vertical-align: top;\n",
       "    }\n",
       "\n",
       "    .dataframe thead th {\n",
       "        text-align: right;\n",
       "    }\n",
       "</style>\n",
       "<table border=\"1\" class=\"dataframe\">\n",
       "  <thead>\n",
       "    <tr style=\"text-align: right;\">\n",
       "      <th></th>\n",
       "      <th>Chinese</th>\n",
       "      <th>English</th>\n",
       "      <th>Thai</th>\n",
       "    </tr>\n",
       "  </thead>\n",
       "  <tbody>\n",
       "    <tr>\n",
       "      <th>0</th>\n",
       "      <td>会计服务</td>\n",
       "      <td>Accounting</td>\n",
       "      <td>บริการด้านบัญชี</td>\n",
       "    </tr>\n",
       "    <tr>\n",
       "      <th>1</th>\n",
       "      <td>企业绩效</td>\n",
       "      <td>Enterprise Performance Management</td>\n",
       "      <td>ผลการดำเนินธุรกิจ</td>\n",
       "    </tr>\n",
       "    <tr>\n",
       "      <th>2</th>\n",
       "      <td>业财综合分析</td>\n",
       "      <td>Financial Analytics</td>\n",
       "      <td>การวิเคราะห์การเงินแบบบูรณาการ</td>\n",
       "    </tr>\n",
       "    <tr>\n",
       "      <th>3</th>\n",
       "      <td>数智合同</td>\n",
       "      <td>Contract Lifecycle Management</td>\n",
       "      <td>สัญญาอัจฉริยะดิจิทัล</td>\n",
       "    </tr>\n",
       "    <tr>\n",
       "      <th>4</th>\n",
       "      <td>采购供应</td>\n",
       "      <td>Material Mgmt</td>\n",
       "      <td>การจัดหาซัพพลาย</td>\n",
       "    </tr>\n",
       "    <tr>\n",
       "      <th>...</th>\n",
       "      <td>...</td>\n",
       "      <td>...</td>\n",
       "      <td>...</td>\n",
       "    </tr>\n",
       "    <tr>\n",
       "      <th>5048</th>\n",
       "      <td>缓存机制</td>\n",
       "      <td>Caching Mechanism</td>\n",
       "      <td>NaN</td>\n",
       "    </tr>\n",
       "    <tr>\n",
       "      <th>5049</th>\n",
       "      <td>管理类角色</td>\n",
       "      <td>Administrative Role</td>\n",
       "      <td>NaN</td>\n",
       "    </tr>\n",
       "    <tr>\n",
       "      <th>5050</th>\n",
       "      <td>业务类角色</td>\n",
       "      <td>Business Role</td>\n",
       "      <td>NaN</td>\n",
       "    </tr>\n",
       "    <tr>\n",
       "      <th>5051</th>\n",
       "      <td>应用发布</td>\n",
       "      <td>Application Release</td>\n",
       "      <td>NaN</td>\n",
       "    </tr>\n",
       "    <tr>\n",
       "      <th>5052</th>\n",
       "      <td>权限分配</td>\n",
       "      <td>Permission Assignment</td>\n",
       "      <td>NaN</td>\n",
       "    </tr>\n",
       "  </tbody>\n",
       "</table>\n",
       "<p>5053 rows × 3 columns</p>\n",
       "</div>"
      ],
      "text/plain": [
       "     Chinese                            English  \\\n",
       "0       会计服务                         Accounting   \n",
       "1       企业绩效  Enterprise Performance Management   \n",
       "2     业财综合分析                Financial Analytics   \n",
       "3       数智合同      Contract Lifecycle Management   \n",
       "4       采购供应                      Material Mgmt   \n",
       "...      ...                                ...   \n",
       "5048    缓存机制                  Caching Mechanism   \n",
       "5049   管理类角色                Administrative Role   \n",
       "5050   业务类角色                      Business Role   \n",
       "5051    应用发布                Application Release   \n",
       "5052    权限分配              Permission Assignment   \n",
       "\n",
       "                                Thai  \n",
       "0                    บริการด้านบัญชี  \n",
       "1                  ผลการดำเนินธุรกิจ  \n",
       "2     การวิเคราะห์การเงินแบบบูรณาการ  \n",
       "3               สัญญาอัจฉริยะดิจิทัล  \n",
       "4                    การจัดหาซัพพลาย  \n",
       "...                              ...  \n",
       "5048                             NaN  \n",
       "5049                             NaN  \n",
       "5050                             NaN  \n",
       "5051                             NaN  \n",
       "5052                             NaN  \n",
       "\n",
       "[5053 rows x 3 columns]"
      ]
     },
     "execution_count": 3,
     "metadata": {},
     "output_type": "execute_result"
    }
   ],
   "source": [
    "import pandas as pd\n",
    "\n",
    "def merge_translation_tables(original_path, new_path, output_path, key_column):\n",
    "    original_df = pd.read_excel(original_path)\n",
    "    new_df = pd.read_excel(new_path)\n",
    "    \n",
    "    # 确保关键列在两个文件中都存在\n",
    "    if key_column not in original_df.columns:\n",
    "        raise ValueError(f\"关键列 '{key_column}' 在原始文件 {original_path} 中不存在。\")\n",
    "    if key_column not in new_df.columns:\n",
    "        raise ValueError(f\"关键列 '{key_column}' 在新文件 {new_path} 中不存在。\")\n",
    "    \n",
    "    # 过滤掉关键列为空的行\n",
    "    original_df = original_df.dropna(subset=[key_column])\n",
    "    new_df = new_df.dropna(subset=[key_column])\n",
    "    \n",
    "    # 1. 将旧表和新表直接合并，新表的数据会排在后面\n",
    "    #    如果列名不同，pandas会自动创建新列并用NaN填充缺失值\n",
    "    combined_df = pd.concat([original_df, new_df], ignore_index=True, sort=False)\n",
    "\n",
    "    # 2. 基于作为唯一标识的关键列(key_column)去重\n",
    "    #    keep='last' 表示保留后面出现的记录，即新表（new_df）中的数据\n",
    "    merged_df = combined_df.drop_duplicates(subset=[key_column], keep='last')\n",
    "    merged_df.to_excel(output_path, index=False)\n",
    "    \n",
    "    return merged_df\n",
    "\n",
    "original_path = r\"D:\\Projects\\ai-translator\\src\\models\\API\\chatgpt-4o-mini\\glossary.xlsx\"\n",
    "new_path = r\"C:\\Users\\wangz\\Downloads\\用友技术类常用术语表 for MT-20250320.xlsx\"\n",
    "output_path = \"glossary_merged.xlsx\"\n",
    "merge_translation_tables(original_path, new_path, output_path, key_column=\"Chinese\")"
   ]
  },
  {
   "cell_type": "markdown",
   "metadata": {},
   "source": [
    "# 文件夹批翻译"
   ]
  },
  {
   "cell_type": "code",
   "execution_count": 2,
   "metadata": {},
   "outputs": [
    {
     "name": "stderr",
     "output_type": "stream",
     "text": [
      "/opt/miniconda3/envs/ai-trans/lib/python3.12/site-packages/tqdm/auto.py:21: TqdmWarning: IProgress not found. Please update jupyter and ipywidgets. See https://ipywidgets.readthedocs.io/en/stable/user_install.html\n",
      "  from .autonotebook import tqdm as notebook_tqdm\n"
     ]
    },
    {
     "name": "stdout",
     "output_type": "stream",
     "text": [
      "2.7.0\n"
     ]
    }
   ],
   "source": [
    "from typing import Optional\n",
    "import time\n",
    "from pptx import Presentation\n",
    "from main_ui import translate, word_to_markdown, extract_complex_blocks, restore_complex_blocks, markdown_to_word\n",
    "import openpyxl\n",
    "import zipfile\n",
    "import shutil\n",
    "import os\n",
    "from tqdm import tqdm # <--- 1. 导入tqdm\n",
    "\n",
    "def translate_folder_with_structure(\n",
    "    source_folder_path: str,\n",
    "    output_parent_dir: str,\n",
    "    selected_model: Optional[str],\n",
    "    selected_lora_model: Optional[str],\n",
    "    selected_gpu: Optional[str],\n",
    "    batch_size: int,\n",
    "    original_language: Optional[str],\n",
    "    target_language: Optional[str]\n",
    "):\n",
    "    \"\"\"\n",
    "    批量翻译指定文件夹内的所有文件，并保持原始目录结构。\n",
    "\n",
    "    :param source_folder_path: 要翻译的源文件夹路径。\n",
    "    :param output_parent_dir: 用于存放生成结果的父目录。\n",
    "    :param selected_model: 翻译模型。\n",
    "    :param selected_lora_model: LoRA模型。\n",
    "    :param selected_gpu: 使用的GPU。\n",
    "    :param batch_size: 批处理大小。\n",
    "    :param original_language: 源语言。\n",
    "    :param target_language: 目标语言。\n",
    "    :return: 一个包含处理信息和最终ZIP文件路径的元组 (message, zip_path)。\n",
    "    \"\"\"\n",
    "    start_time = time.time()\n",
    "\n",
    "    if not os.path.isdir(source_folder_path):\n",
    "        return \"源路径不是一个有效的文件夹\", None\n",
    "\n",
    "    # 1. 设置输出路径\n",
    "    base_folder_name = os.path.basename(os.path.normpath(source_folder_path))\n",
    "    output_root_folder = os.path.join(output_parent_dir, f\"{base_folder_name}_translated_{int(start_time)}\")\n",
    "    temp_image_dir = os.path.join(output_root_folder, \"temp_images_from_docx\")\n",
    "    os.makedirs(temp_image_dir, exist_ok=True)\n",
    "    \n",
    "    print(f\"源文件夹: {source_folder_path}\")\n",
    "    print(f\"输出根目录: {output_root_folder}\")\n",
    "\n",
    "    # --- 2. 新增: 预先收集所有文件路径以计算总数 ---\n",
    "    files_to_process = []\n",
    "    for root, _, files in os.walk(source_folder_path):\n",
    "        for filename in files:\n",
    "            files_to_process.append(os.path.join(root, filename))\n",
    "\n",
    "    processed_files_paths = []\n",
    "    \n",
    "    # --- 3. 修改: 使用tqdm包装主循环 ---\n",
    "    with tqdm(total=len(files_to_process), desc=\"整体进度\", unit=\"个文件\") as pbar:\n",
    "        for source_file_path in files_to_process:\n",
    "            # 从完整路径中获取文件名和相对路径\n",
    "            filename = os.path.basename(source_file_path)\n",
    "            pbar.set_description(f\"正在处理: {filename}\") # 动态显示当前文件名\n",
    "\n",
    "            # 计算并创建在输出目录中对应的路径结构\n",
    "            relative_path = os.path.relpath(source_file_path, source_folder_path)\n",
    "            output_file_path_dest = os.path.join(output_root_folder, relative_path)\n",
    "            \n",
    "            # 确保目标目录存在\n",
    "            os.makedirs(os.path.dirname(output_file_path_dest), exist_ok=True)\n",
    "\n",
    "            _, file_ext = os.path.splitext(filename)\n",
    "\n",
    "            try:\n",
    "                # 根据文件类型选择相应的处理逻辑 (移植自您的代码)\n",
    "                if file_ext.lower() == '.pptx':\n",
    "                    # --- PPTX 处理逻辑 ---\n",
    "                    prs = Presentation(source_file_path)\n",
    "                    run_list = []\n",
    "                    text_list = []\n",
    "                    \n",
    "                    def extract_text_from_shape(shape, run_list, text_list):\n",
    "                        if hasattr(shape, \"text_frame\") and shape.text_frame is not None:\n",
    "                            for paragraph in shape.text_frame.paragraphs:\n",
    "                                for run in paragraph.runs:\n",
    "                                    run_list.append(run); text_list.append(run.text)\n",
    "                        elif getattr(shape, \"has_table\", False):\n",
    "                            for row in shape.table.rows:\n",
    "                                for cell in row.cells:\n",
    "                                    if cell.text_frame is not None:\n",
    "                                        for paragraph in cell.text_frame.paragraphs:\n",
    "                                            for run in paragraph.runs:\n",
    "                                                run_list.append(run); text_list.append(run.text)\n",
    "                        elif hasattr(shape, \"shapes\"):\n",
    "                            for sub_shape in shape.shapes:\n",
    "                                extract_text_from_shape(sub_shape, run_list, text_list)\n",
    "                                                \n",
    "                    for slide in prs.slides:\n",
    "                        for shape in slide.shapes:\n",
    "                            extract_text_from_shape(shape, run_list, text_list)\n",
    "\n",
    "                    if text_list:\n",
    "                        translated_segments = translate(text_list, selected_model, selected_lora_model, selected_gpu, batch_size, original_language, target_language)\n",
    "                        for run, translated in zip(run_list, translated_segments):\n",
    "                            run.text = translated[0][\"generated_translation\"]\n",
    "                    \n",
    "                    prs.save(output_file_path_dest)\n",
    "                    processed_files_paths.append(output_file_path_dest)\n",
    "                    # pbar.write(f\"已翻译: {source_file_path} -> {output_file_path_dest}\")\n",
    "\n",
    "                elif file_ext.lower() in ['.xlsx', '.xls']:\n",
    "                    # --- Excel 处理逻辑 ---\n",
    "                    workbook = openpyxl.load_workbook(source_file_path)\n",
    "                    texts_to_translate, cell_locations = [], []\n",
    "\n",
    "                    for sheet_name in workbook.sheetnames:\n",
    "                        sheet = workbook[sheet_name]\n",
    "                        for row in sheet.iter_rows():\n",
    "                            for cell in row:\n",
    "                                if cell.value and isinstance(cell.value, str): # 只翻译字符串类型\n",
    "                                    texts_to_translate.append(str(cell.value))\n",
    "                                    cell_locations.append((sheet_name, cell.row, cell.column))\n",
    "                    \n",
    "                    if texts_to_translate:\n",
    "                        translated_results = translate(texts_to_translate, selected_model, selected_lora_model, selected_gpu, batch_size, original_language, target_language)\n",
    "                        for i, location in enumerate(cell_locations):\n",
    "                            translated_text = translated_results[i][0]['generated_translation']\n",
    "                            sheet_name, row, col = location\n",
    "                            workbook[sheet_name].cell(row=row, column=col, value=translated_text)\n",
    "                    \n",
    "                    workbook.save(output_file_path_dest)\n",
    "                    processed_files_paths.append(output_file_path_dest)\n",
    "                    # pbar.write(f\"已翻译: {source_file_path} -> {output_file_path_dest}\")\n",
    "\n",
    "                elif file_ext.lower() in ['.docx', '.md']:\n",
    "                    # --- Docx/Markdown 处理逻辑 ---\n",
    "                    md_content = \"\"\n",
    "                    if file_ext.lower() == '.docx':\n",
    "                        md_content = word_to_markdown(source_file_path, output_dir=temp_image_dir)\n",
    "                    else: # .md\n",
    "                        with open(source_file_path, 'r', encoding='utf-8') as f:\n",
    "                            md_content = f.read()\n",
    "\n",
    "                    clean_md, protected_blocks = extract_complex_blocks(md_content)\n",
    "                    text_to_translate = [p for p in clean_md.split('\\n\\n') if p.strip()]\n",
    "\n",
    "                    if text_to_translate:\n",
    "                        translated_results = translate(text_to_translate, selected_model, selected_lora_model, selected_gpu, batch_size, original_language, target_language)\n",
    "                        translation_map = {original: result[0]['generated_translation'] for original, result in zip(text_to_translate, translated_results)}\n",
    "                        \n",
    "                        temp_translated_content = [translation_map.get(para, para) for para in clean_md.split('\\n\\n')]\n",
    "                        translated_content = '\\n\\n'.join(temp_translated_content)\n",
    "                    else:\n",
    "                        translated_content = clean_md\n",
    "                    \n",
    "                    final_md_content = restore_complex_blocks(translated_content, protected_blocks)\n",
    "                    \n",
    "                    if file_ext.lower() == '.docx':\n",
    "                        markdown_to_word(final_md_content, output_file_path_dest, image_base_dir=temp_image_dir)\n",
    "                    else: # .md\n",
    "                        with open(output_file_path_dest, 'w', encoding='utf-8') as f:\n",
    "                            f.write(final_md_content)\n",
    "                    \n",
    "                    processed_files_paths.append(output_file_path_dest)\n",
    "                    # pbar.write(f\"已翻译: {source_file_path} -> {output_file_path_dest}\")\n",
    "\n",
    "                else:\n",
    "                    # 对于不支持翻译的文件类型，直接复制到目标位置\n",
    "                    shutil.copy2(source_file_path, output_file_path_dest)\n",
    "                    # pbar.write(f\"已复制: {source_file_path} -> {output_file_path_dest}\")\n",
    "\n",
    "            except Exception as e:\n",
    "                # 使用pbar.write在不破坏进度条的情况下打印错误信息\n",
    "                pbar.write(f\"\\n处理文件 {source_file_path} 时发生严重错误: {e}\")\n",
    "                import traceback\n",
    "                # 同样使用pbar.write打印详细的traceback\n",
    "                pbar.write(traceback.format_exc())\n",
    "                # 即使出错也要更新进度条，表示此文件已（尝试）处理\n",
    "                pbar.update(1)\n",
    "                continue \n",
    "\n",
    "            # --- 4. 新增: 处理完一个文件后，更新进度条 ---\n",
    "            pbar.update(1)\n",
    "\n",
    "    end_time = time.time()\n",
    "    duration = int(end_time - start_time)\n",
    "    \n",
    "    # 清理临时图片文件夹\n",
    "    shutil.rmtree(temp_image_dir, ignore_errors=True)\n",
    "    \n",
    "    final_message = f\"处理完成，总耗时: {duration}秒。{len(processed_files_paths)}个文件被成功处理。\"\n",
    "    print(f\"\\n{final_message}\") # 结束后打印最终信息\n",
    "    \n",
    "    return final_message"
   ]
  },
  {
   "cell_type": "code",
   "execution_count": 3,
   "metadata": {},
   "outputs": [
    {
     "name": "stdout",
     "output_type": "stream",
     "text": [
      "源文件夹: /Users/princepride/Downloads/数智合同\n",
      "输出根目录: /Users/princepride/Downloads/数智合同_translated_1754378592\n"
     ]
    },
    {
     "name": "stderr",
     "output_type": "stream",
     "text": [
      "正在处理: 数智合同.docx:   0%|          | 0/38 [00:00<?, ?个文件/s]"
     ]
    },
    {
     "name": "stdout",
     "output_type": "stream",
     "text": [
      "Generated images: ['/Users/princepride/Downloads/数智合同_translated_1754378592/temp_images_from_docx/image_1.jpeg', '/Users/princepride/Downloads/数智合同_translated_1754378592/temp_images_from_docx/image_2.png']\n"
     ]
    },
    {
     "name": "stderr",
     "output_type": "stream",
     "text": [
      "正在处理: 数智合同.docx:   3%|▎         | 1/38 [00:02<01:41,  2.73s/个文件]"
     ]
    },
    {
     "name": "stdout",
     "output_type": "stream",
     "text": [
      "Generated images: ['/Users/princepride/Downloads/数智合同_translated_1754378592/temp_images_from_docx/image_1.jpeg', '/Users/princepride/Downloads/数智合同_translated_1754378592/temp_images_from_docx/image_2.png']\n"
     ]
    },
    {
     "name": "stderr",
     "output_type": "stream",
     "text": [
      "正在处理: 合同签订统计.docx:   5%|▌         | 2/38 [00:04<01:20,  2.24s/个文件]"
     ]
    },
    {
     "name": "stdout",
     "output_type": "stream",
     "text": [
      "Generated images: ['/Users/princepride/Downloads/数智合同_translated_1754378592/temp_images_from_docx/image_1.png', '/Users/princepride/Downloads/数智合同_translated_1754378592/temp_images_from_docx/image_2.jpeg', '/Users/princepride/Downloads/数智合同_translated_1754378592/temp_images_from_docx/image_3.jpeg', '/Users/princepride/Downloads/数智合同_translated_1754378592/temp_images_from_docx/image_4.jpeg']\n"
     ]
    },
    {
     "name": "stderr",
     "output_type": "stream",
     "text": [
      "正在处理: 合同审批统计.docx:   8%|▊         | 3/38 [00:10<02:19,  3.99s/个文件]"
     ]
    },
    {
     "name": "stdout",
     "output_type": "stream",
     "text": [
      "Generated images: ['/Users/princepride/Downloads/数智合同_translated_1754378592/temp_images_from_docx/image_1.png', '/Users/princepride/Downloads/数智合同_translated_1754378592/temp_images_from_docx/image_2.jpeg', '/Users/princepride/Downloads/数智合同_translated_1754378592/temp_images_from_docx/image_3.jpeg', '/Users/princepride/Downloads/数智合同_translated_1754378592/temp_images_from_docx/image_4.jpeg']\n"
     ]
    },
    {
     "name": "stderr",
     "output_type": "stream",
     "text": [
      "正在处理: 智能合同配置.docx:  11%|█         | 4/38 [00:15<02:22,  4.18s/个文件]"
     ]
    },
    {
     "name": "stdout",
     "output_type": "stream",
     "text": [
      "Generated images: []\n"
     ]
    },
    {
     "name": "stderr",
     "output_type": "stream",
     "text": [
      "正在处理: 合同审查项.docx:  13%|█▎        | 5/38 [00:17<01:57,  3.57s/个文件]  "
     ]
    },
    {
     "name": "stdout",
     "output_type": "stream",
     "text": [
      "Generated images: ['/Users/princepride/Downloads/数智合同_translated_1754378592/temp_images_from_docx/image_1.jpeg', '/Users/princepride/Downloads/数智合同_translated_1754378592/temp_images_from_docx/image_2.jpeg', '/Users/princepride/Downloads/数智合同_translated_1754378592/temp_images_from_docx/image_3.jpeg', '/Users/princepride/Downloads/数智合同_translated_1754378592/temp_images_from_docx/image_4.jpeg', '/Users/princepride/Downloads/数智合同_translated_1754378592/temp_images_from_docx/image_5.png', '/Users/princepride/Downloads/数智合同_translated_1754378592/temp_images_from_docx/image_6.png', '/Users/princepride/Downloads/数智合同_translated_1754378592/temp_images_from_docx/image_7.jpeg', '/Users/princepride/Downloads/数智合同_translated_1754378592/temp_images_from_docx/image_8.jpeg']\n"
     ]
    },
    {
     "name": "stderr",
     "output_type": "stream",
     "text": [
      "正在处理: 合同识别规则.docx:  16%|█▌        | 6/38 [00:21<01:53,  3.56s/个文件]"
     ]
    },
    {
     "name": "stdout",
     "output_type": "stream",
     "text": [
      "Generated images: ['/Users/princepride/Downloads/数智合同_translated_1754378592/temp_images_from_docx/image_1.jpeg', '/Users/princepride/Downloads/数智合同_translated_1754378592/temp_images_from_docx/image_2.jpeg', '/Users/princepride/Downloads/数智合同_translated_1754378592/temp_images_from_docx/image_3.jpeg', '/Users/princepride/Downloads/数智合同_translated_1754378592/temp_images_from_docx/image_4.jpeg']\n"
     ]
    },
    {
     "name": "stderr",
     "output_type": "stream",
     "text": [
      "正在处理: 合同敏感词库.docx:  18%|█▊        | 7/38 [00:23<01:38,  3.19s/个文件]"
     ]
    },
    {
     "name": "stdout",
     "output_type": "stream",
     "text": [
      "Generated images: ['/Users/princepride/Downloads/数智合同_translated_1754378592/temp_images_from_docx/image_1.png', '/Users/princepride/Downloads/数智合同_translated_1754378592/temp_images_from_docx/image_2.png', '/Users/princepride/Downloads/数智合同_translated_1754378592/temp_images_from_docx/image_3.png', '/Users/princepride/Downloads/数智合同_translated_1754378592/temp_images_from_docx/image_4.png', '/Users/princepride/Downloads/数智合同_translated_1754378592/temp_images_from_docx/image_5.jpeg', '/Users/princepride/Downloads/数智合同_translated_1754378592/temp_images_from_docx/image_6.jpeg']\n"
     ]
    },
    {
     "name": "stderr",
     "output_type": "stream",
     "text": [
      "正在处理: 合同审查方案.docx:  21%|██        | 8/38 [00:26<01:34,  3.14s/个文件]"
     ]
    },
    {
     "name": "stdout",
     "output_type": "stream",
     "text": [
      "Generated images: ['/Users/princepride/Downloads/数智合同_translated_1754378592/temp_images_from_docx/image_1.jpeg', '/Users/princepride/Downloads/数智合同_translated_1754378592/temp_images_from_docx/image_2.jpeg', '/Users/princepride/Downloads/数智合同_translated_1754378592/temp_images_from_docx/image_3.jpeg', '/Users/princepride/Downloads/数智合同_translated_1754378592/temp_images_from_docx/image_4.jpeg', '/Users/princepride/Downloads/数智合同_translated_1754378592/temp_images_from_docx/image_5.jpeg', '/Users/princepride/Downloads/数智合同_translated_1754378592/temp_images_from_docx/image_6.jpeg', '/Users/princepride/Downloads/数智合同_translated_1754378592/temp_images_from_docx/image_7.jpeg', '/Users/princepride/Downloads/数智合同_translated_1754378592/temp_images_from_docx/image_8.jpeg', '/Users/princepride/Downloads/数智合同_translated_1754378592/temp_images_from_docx/image_9.jpeg']\n"
     ]
    },
    {
     "name": "stderr",
     "output_type": "stream",
     "text": [
      "正在处理: 合同审查分类.docx:  24%|██▎       | 9/38 [00:29<01:25,  2.95s/个文件]"
     ]
    },
    {
     "name": "stdout",
     "output_type": "stream",
     "text": [
      "Generated images: ['/Users/princepride/Downloads/数智合同_translated_1754378592/temp_images_from_docx/image_1.jpeg', '/Users/princepride/Downloads/数智合同_translated_1754378592/temp_images_from_docx/image_2.jpeg', '/Users/princepride/Downloads/数智合同_translated_1754378592/temp_images_from_docx/image_3.jpeg', '/Users/princepride/Downloads/数智合同_translated_1754378592/temp_images_from_docx/image_4.jpeg']\n"
     ]
    },
    {
     "name": "stderr",
     "output_type": "stream",
     "text": [
      "正在处理: 合同属性配置.docx:  26%|██▋       | 10/38 [00:32<01:25,  3.06s/个文件]"
     ]
    },
    {
     "name": "stdout",
     "output_type": "stream",
     "text": [
      "Generated images: ['/Users/princepride/Downloads/数智合同_translated_1754378592/temp_images_from_docx/image_1.jpeg', '/Users/princepride/Downloads/数智合同_translated_1754378592/temp_images_from_docx/image_2.jpeg', '/Users/princepride/Downloads/数智合同_translated_1754378592/temp_images_from_docx/image_3.jpeg', '/Users/princepride/Downloads/数智合同_translated_1754378592/temp_images_from_docx/image_4.jpeg', '/Users/princepride/Downloads/数智合同_translated_1754378592/temp_images_from_docx/image_5.jpeg']\n"
     ]
    },
    {
     "name": "stderr",
     "output_type": "stream",
     "text": [
      "正在处理: 物理印章管理.docx:  29%|██▉       | 11/38 [00:36<01:31,  3.37s/个文件]"
     ]
    },
    {
     "name": "stdout",
     "output_type": "stream",
     "text": [
      "Generated images: ['/Users/princepride/Downloads/数智合同_translated_1754378592/temp_images_from_docx/image_1.png', '/Users/princepride/Downloads/数智合同_translated_1754378592/temp_images_from_docx/image_2.png', '/Users/princepride/Downloads/数智合同_translated_1754378592/temp_images_from_docx/image_3.png', '/Users/princepride/Downloads/数智合同_translated_1754378592/temp_images_from_docx/image_4.png', '/Users/princepride/Downloads/数智合同_translated_1754378592/temp_images_from_docx/image_5.png']\n"
     ]
    },
    {
     "name": "stderr",
     "output_type": "stream",
     "text": [
      "正在处理: 初始导航.docx:  32%|███▏      | 12/38 [00:38<01:14,  2.86s/个文件]    "
     ]
    },
    {
     "name": "stdout",
     "output_type": "stream",
     "text": [
      "Generated images: ['/Users/princepride/Downloads/数智合同_translated_1754378592/temp_images_from_docx/image_1.jpeg']\n"
     ]
    },
    {
     "name": "stderr",
     "output_type": "stream",
     "text": [
      "正在处理: 合同变更类别.docx:  34%|███▍      | 13/38 [00:42<01:25,  3.41s/个文件]"
     ]
    },
    {
     "name": "stdout",
     "output_type": "stream",
     "text": [
      "Generated images: ['/Users/princepride/Downloads/数智合同_translated_1754378592/temp_images_from_docx/image_1.png', '/Users/princepride/Downloads/数智合同_translated_1754378592/temp_images_from_docx/image_2.png', '/Users/princepride/Downloads/数智合同_translated_1754378592/temp_images_from_docx/image_3.jpeg']\n"
     ]
    },
    {
     "name": "stderr",
     "output_type": "stream",
     "text": [
      "正在处理: 合同文件服务.docx:  37%|███▋      | 14/38 [00:44<01:11,  2.96s/个文件]"
     ]
    },
    {
     "name": "stdout",
     "output_type": "stream",
     "text": [
      "Generated images: []\n"
     ]
    },
    {
     "name": "stderr",
     "output_type": "stream",
     "text": [
      "正在处理: 合同文件配置.docx:  39%|███▉      | 15/38 [00:47<01:02,  2.73s/个文件]"
     ]
    },
    {
     "name": "stdout",
     "output_type": "stream",
     "text": [
      "Generated images: ['/Users/princepride/Downloads/数智合同_translated_1754378592/temp_images_from_docx/image_1.jpeg', '/Users/princepride/Downloads/数智合同_translated_1754378592/temp_images_from_docx/image_2.jpeg', '/Users/princepride/Downloads/数智合同_translated_1754378592/temp_images_from_docx/image_3.jpeg', '/Users/princepride/Downloads/数智合同_translated_1754378592/temp_images_from_docx/image_4.jpeg', '/Users/princepride/Downloads/数智合同_translated_1754378592/temp_images_from_docx/image_5.jpeg', '/Users/princepride/Downloads/数智合同_translated_1754378592/temp_images_from_docx/image_6.jpeg', '/Users/princepride/Downloads/数智合同_translated_1754378592/temp_images_from_docx/image_7.png', '/Users/princepride/Downloads/数智合同_translated_1754378592/temp_images_from_docx/image_8.jpeg', '/Users/princepride/Downloads/数智合同_translated_1754378592/temp_images_from_docx/image_9.jpeg', '/Users/princepride/Downloads/数智合同_translated_1754378592/temp_images_from_docx/image_10.jpeg', '/Users/princepride/Downloads/数智合同_translated_1754378592/temp_images_from_docx/image_11.jpeg', '/Users/princepride/Downloads/数智合同_translated_1754378592/temp_images_from_docx/image_12.png']\n"
     ]
    },
    {
     "name": "stderr",
     "output_type": "stream",
     "text": [
      "正在处理: 合同防伪水印.docx:  42%|████▏     | 16/38 [00:49<00:59,  2.68s/个文件]"
     ]
    },
    {
     "name": "stdout",
     "output_type": "stream",
     "text": [
      "Generated images: ['/Users/princepride/Downloads/数智合同_translated_1754378592/temp_images_from_docx/image_1.png', '/Users/princepride/Downloads/数智合同_translated_1754378592/temp_images_from_docx/image_2.png', '/Users/princepride/Downloads/数智合同_translated_1754378592/temp_images_from_docx/image_3.png', '/Users/princepride/Downloads/数智合同_translated_1754378592/temp_images_from_docx/image_4.png', '/Users/princepride/Downloads/数智合同_translated_1754378592/temp_images_from_docx/image_5.jpeg']\n"
     ]
    },
    {
     "name": "stderr",
     "output_type": "stream",
     "text": [
      "正在处理: 合同范本.docx:  45%|████▍     | 17/38 [00:52<00:57,  2.73s/个文件]    "
     ]
    },
    {
     "name": "stdout",
     "output_type": "stream",
     "text": [
      "Generated images: ['/Users/princepride/Downloads/数智合同_translated_1754378592/temp_images_from_docx/image_1.png', '/Users/princepride/Downloads/数智合同_translated_1754378592/temp_images_from_docx/image_2.png']\n"
     ]
    },
    {
     "name": "stderr",
     "output_type": "stream",
     "text": [
      "正在处理: 合同履约.docx:  47%|████▋     | 18/38 [00:57<01:08,  3.44s/个文件]"
     ]
    },
    {
     "name": "stdout",
     "output_type": "stream",
     "text": [
      "Generated images: []\n"
     ]
    },
    {
     "name": "stderr",
     "output_type": "stream",
     "text": [
      "正在处理: 合同事务管理.docx:  50%|█████     | 19/38 [00:58<00:53,  2.83s/个文件]"
     ]
    },
    {
     "name": "stdout",
     "output_type": "stream",
     "text": [
      "Generated images: []\n"
     ]
    },
    {
     "name": "stderr",
     "output_type": "stream",
     "text": [
      "正在处理: 异常合同.docx:  53%|█████▎    | 20/38 [01:00<00:44,  2.46s/个文件]    "
     ]
    },
    {
     "name": "stdout",
     "output_type": "stream",
     "text": [
      "Generated images: ['/Users/princepride/Downloads/数智合同_translated_1754378592/temp_images_from_docx/image_1.png', '/Users/princepride/Downloads/数智合同_translated_1754378592/temp_images_from_docx/image_2.jpeg', '/Users/princepride/Downloads/数智合同_translated_1754378592/temp_images_from_docx/image_3.jpeg']\n"
     ]
    },
    {
     "name": "stderr",
     "output_type": "stream",
     "text": [
      "正在处理: 合同变更.docx:  55%|█████▌    | 21/38 [01:02<00:38,  2.28s/个文件]"
     ]
    },
    {
     "name": "stdout",
     "output_type": "stream",
     "text": [
      "Generated images: ['/Users/princepride/Downloads/数智合同_translated_1754378592/temp_images_from_docx/image_1.png', '/Users/princepride/Downloads/数智合同_translated_1754378592/temp_images_from_docx/image_2.jpeg', '/Users/princepride/Downloads/数智合同_translated_1754378592/temp_images_from_docx/image_3.png', '/Users/princepride/Downloads/数智合同_translated_1754378592/temp_images_from_docx/image_4.jpeg', '/Users/princepride/Downloads/数智合同_translated_1754378592/temp_images_from_docx/image_5.png', '/Users/princepride/Downloads/数智合同_translated_1754378592/temp_images_from_docx/image_6.png', '/Users/princepride/Downloads/数智合同_translated_1754378592/temp_images_from_docx/image_7.jpeg', '/Users/princepride/Downloads/数智合同_translated_1754378592/temp_images_from_docx/image_8.png', '/Users/princepride/Downloads/数智合同_translated_1754378592/temp_images_from_docx/image_9.png', '/Users/princepride/Downloads/数智合同_translated_1754378592/temp_images_from_docx/image_10.jpeg', '/Users/princepride/Downloads/数智合同_translated_1754378592/temp_images_from_docx/image_11.jpeg']\n"
     ]
    },
    {
     "name": "stderr",
     "output_type": "stream",
     "text": [
      "正在处理: 合同中心.docx:  58%|█████▊    | 22/38 [01:05<00:40,  2.55s/个文件]"
     ]
    },
    {
     "name": "stdout",
     "output_type": "stream",
     "text": [
      "Generated images: []\n"
     ]
    },
    {
     "name": "stderr",
     "output_type": "stream",
     "text": [
      "正在处理: 合同台账设置.docx:  61%|██████    | 23/38 [01:07<00:36,  2.45s/个文件]"
     ]
    },
    {
     "name": "stdout",
     "output_type": "stream",
     "text": [
      "Generated images: ['/Users/princepride/Downloads/数智合同_translated_1754378592/temp_images_from_docx/image_1.png', '/Users/princepride/Downloads/数智合同_translated_1754378592/temp_images_from_docx/image_2.png']\n"
     ]
    },
    {
     "name": "stderr",
     "output_type": "stream",
     "text": [
      "正在处理: 合同中心.docx:  63%|██████▎   | 24/38 [01:09<00:32,  2.33s/个文件]    "
     ]
    },
    {
     "name": "stdout",
     "output_type": "stream",
     "text": [
      "Generated images: ['/Users/princepride/Downloads/数智合同_translated_1754378592/temp_images_from_docx/image_1.jpeg', '/Users/princepride/Downloads/数智合同_translated_1754378592/temp_images_from_docx/image_2.jpeg', '/Users/princepride/Downloads/数智合同_translated_1754378592/temp_images_from_docx/image_3.jpeg', '/Users/princepride/Downloads/数智合同_translated_1754378592/temp_images_from_docx/image_4.jpeg', '/Users/princepride/Downloads/数智合同_translated_1754378592/temp_images_from_docx/image_5.jpeg']\n"
     ]
    },
    {
     "name": "stderr",
     "output_type": "stream",
     "text": [
      "正在处理: 合同缔约.docx:  66%|██████▌   | 25/38 [01:15<00:43,  3.32s/个文件]"
     ]
    },
    {
     "name": "stdout",
     "output_type": "stream",
     "text": [
      "Generated images: []\n"
     ]
    },
    {
     "name": "stderr",
     "output_type": "stream",
     "text": [
      "正在处理: 合同缔约管理.docx:  68%|██████▊   | 26/38 [01:16<00:32,  2.74s/个文件]"
     ]
    },
    {
     "name": "stdout",
     "output_type": "stream",
     "text": [
      "Generated images: []\n"
     ]
    },
    {
     "name": "stderr",
     "output_type": "stream",
     "text": [
      "正在处理: 签署管理.docx:  71%|███████   | 27/38 [01:18<00:26,  2.38s/个文件]    "
     ]
    },
    {
     "name": "stdout",
     "output_type": "stream",
     "text": [
      "Generated images: ['/Users/princepride/Downloads/数智合同_translated_1754378592/temp_images_from_docx/image_1.png', '/Users/princepride/Downloads/数智合同_translated_1754378592/temp_images_from_docx/image_2.png', '/Users/princepride/Downloads/数智合同_translated_1754378592/temp_images_from_docx/image_3.jpeg', '/Users/princepride/Downloads/数智合同_translated_1754378592/temp_images_from_docx/image_4.png']\n"
     ]
    },
    {
     "name": "stderr",
     "output_type": "stream",
     "text": [
      "正在处理: 我的合同.docx:  74%|███████▎  | 28/38 [01:20<00:23,  2.32s/个文件]"
     ]
    },
    {
     "name": "stdout",
     "output_type": "stream",
     "text": [
      "Generated images: ['/Users/princepride/Downloads/数智合同_translated_1754378592/temp_images_from_docx/image_1.png', '/Users/princepride/Downloads/数智合同_translated_1754378592/temp_images_from_docx/image_2.png', '/Users/princepride/Downloads/数智合同_translated_1754378592/temp_images_from_docx/image_3.png', '/Users/princepride/Downloads/数智合同_translated_1754378592/temp_images_from_docx/image_4.png', '/Users/princepride/Downloads/数智合同_translated_1754378592/temp_images_from_docx/image_5.png', '/Users/princepride/Downloads/数智合同_translated_1754378592/temp_images_from_docx/image_6.png', '/Users/princepride/Downloads/数智合同_translated_1754378592/temp_images_from_docx/image_7.jpeg', '/Users/princepride/Downloads/数智合同_translated_1754378592/temp_images_from_docx/image_8.png', '/Users/princepride/Downloads/数智合同_translated_1754378592/temp_images_from_docx/image_9.png', '/Users/princepride/Downloads/数智合同_translated_1754378592/temp_images_from_docx/image_10.jpeg', '/Users/princepride/Downloads/数智合同_translated_1754378592/temp_images_from_docx/image_11.jpeg', '/Users/princepride/Downloads/数智合同_translated_1754378592/temp_images_from_docx/image_12.jpeg', '/Users/princepride/Downloads/数智合同_translated_1754378592/temp_images_from_docx/image_13.jpeg', '/Users/princepride/Downloads/数智合同_translated_1754378592/temp_images_from_docx/image_14.jpeg', '/Users/princepride/Downloads/数智合同_translated_1754378592/temp_images_from_docx/image_15.jpeg']\n"
     ]
    },
    {
     "name": "stderr",
     "output_type": "stream",
     "text": [
      "正在处理: 合同管理.docx:  76%|███████▋  | 29/38 [01:32<00:45,  5.11s/个文件]"
     ]
    },
    {
     "name": "stdout",
     "output_type": "stream",
     "text": [
      "Generated images: ['/Users/princepride/Downloads/数智合同_translated_1754378592/temp_images_from_docx/image_1.jpeg', '/Users/princepride/Downloads/数智合同_translated_1754378592/temp_images_from_docx/image_2.jpeg', '/Users/princepride/Downloads/数智合同_translated_1754378592/temp_images_from_docx/image_3.jpeg', '/Users/princepride/Downloads/数智合同_translated_1754378592/temp_images_from_docx/image_4.jpeg', '/Users/princepride/Downloads/数智合同_translated_1754378592/temp_images_from_docx/image_5.png', '/Users/princepride/Downloads/数智合同_translated_1754378592/temp_images_from_docx/image_6.png', '/Users/princepride/Downloads/数智合同_translated_1754378592/temp_images_from_docx/image_7.png', '/Users/princepride/Downloads/数智合同_translated_1754378592/temp_images_from_docx/image_8.png', '/Users/princepride/Downloads/数智合同_translated_1754378592/temp_images_from_docx/image_9.jpeg', '/Users/princepride/Downloads/数智合同_translated_1754378592/temp_images_from_docx/image_10.jpeg']\n"
     ]
    },
    {
     "name": "stderr",
     "output_type": "stream",
     "text": [
      "正在处理: 合同缔约中心.docx:  79%|███████▉  | 30/38 [01:34<00:34,  4.37s/个文件]"
     ]
    },
    {
     "name": "stdout",
     "output_type": "stream",
     "text": [
      "Generated images: []\n"
     ]
    },
    {
     "name": "stderr",
     "output_type": "stream",
     "text": [
      "正在处理: 我的签署.docx:  82%|████████▏ | 31/38 [01:37<00:26,  3.75s/个文件]    "
     ]
    },
    {
     "name": "stdout",
     "output_type": "stream",
     "text": [
      "Generated images: ['/Users/princepride/Downloads/数智合同_translated_1754378592/temp_images_from_docx/image_1.png', '/Users/princepride/Downloads/数智合同_translated_1754378592/temp_images_from_docx/image_2.png']\n"
     ]
    },
    {
     "name": "stderr",
     "output_type": "stream",
     "text": [
      "正在处理: 合同审批.docx:  84%|████████▍ | 32/38 [01:40<00:22,  3.67s/个文件]"
     ]
    },
    {
     "name": "stdout",
     "output_type": "stream",
     "text": [
      "Generated images: ['/Users/princepride/Downloads/数智合同_translated_1754378592/temp_images_from_docx/image_1.png']\n"
     ]
    },
    {
     "name": "stderr",
     "output_type": "stream",
     "text": [
      "正在处理: 合同智能比对.docx:  87%|████████▋ | 33/38 [01:42<00:15,  3.12s/个文件]"
     ]
    },
    {
     "name": "stdout",
     "output_type": "stream",
     "text": [
      "Generated images: ['/Users/princepride/Downloads/数智合同_translated_1754378592/temp_images_from_docx/image_1.png', '/Users/princepride/Downloads/数智合同_translated_1754378592/temp_images_from_docx/image_2.png']\n"
     ]
    },
    {
     "name": "stderr",
     "output_type": "stream",
     "text": [
      "正在处理: 智能比对记录.docx:  89%|████████▉ | 34/38 [01:44<00:11,  2.90s/个文件]"
     ]
    },
    {
     "name": "stdout",
     "output_type": "stream",
     "text": [
      "Generated images: ['/Users/princepride/Downloads/数智合同_translated_1754378592/temp_images_from_docx/image_1.png', '/Users/princepride/Downloads/数智合同_translated_1754378592/temp_images_from_docx/image_2.png']\n"
     ]
    },
    {
     "name": "stderr",
     "output_type": "stream",
     "text": [
      "正在处理: 智能识别记录.docx:  92%|█████████▏| 35/38 [01:46<00:07,  2.41s/个文件]"
     ]
    },
    {
     "name": "stdout",
     "output_type": "stream",
     "text": [
      "Generated images: ['/Users/princepride/Downloads/数智合同_translated_1754378592/temp_images_from_docx/image_1.jpeg', '/Users/princepride/Downloads/数智合同_translated_1754378592/temp_images_from_docx/image_2.jpeg', '/Users/princepride/Downloads/数智合同_translated_1754378592/temp_images_from_docx/image_3.png', '/Users/princepride/Downloads/数智合同_translated_1754378592/temp_images_from_docx/image_4.jpeg', '/Users/princepride/Downloads/数智合同_translated_1754378592/temp_images_from_docx/image_5.png', '/Users/princepride/Downloads/数智合同_translated_1754378592/temp_images_from_docx/image_6.png']\n"
     ]
    },
    {
     "name": "stderr",
     "output_type": "stream",
     "text": [
      "正在处理: 合同起草.docx:  95%|█████████▍| 36/38 [01:48<00:04,  2.24s/个文件]    "
     ]
    },
    {
     "name": "stdout",
     "output_type": "stream",
     "text": [
      "Generated images: ['/Users/princepride/Downloads/数智合同_translated_1754378592/temp_images_from_docx/image_1.jpeg', '/Users/princepride/Downloads/数智合同_translated_1754378592/temp_images_from_docx/image_2.jpeg', '/Users/princepride/Downloads/数智合同_translated_1754378592/temp_images_from_docx/image_3.jpeg', '/Users/princepride/Downloads/数智合同_translated_1754378592/temp_images_from_docx/image_4.png']\n"
     ]
    },
    {
     "name": "stderr",
     "output_type": "stream",
     "text": [
      "正在处理: 智能合同助理.docx:  97%|█████████▋| 37/38 [01:51<00:02,  2.55s/个文件]"
     ]
    },
    {
     "name": "stdout",
     "output_type": "stream",
     "text": [
      "Generated images: ['/Users/princepride/Downloads/数智合同_translated_1754378592/temp_images_from_docx/image_1.jpeg', '/Users/princepride/Downloads/数智合同_translated_1754378592/temp_images_from_docx/image_2.jpeg', '/Users/princepride/Downloads/数智合同_translated_1754378592/temp_images_from_docx/image_3.jpeg']\n"
     ]
    },
    {
     "name": "stderr",
     "output_type": "stream",
     "text": [
      "正在处理: 智能合同助理.docx: 100%|██████████| 38/38 [01:53<00:00,  2.98s/个文件]"
     ]
    },
    {
     "name": "stdout",
     "output_type": "stream",
     "text": [
      "\n",
      "处理完成，总耗时: 113秒。38个文件被成功处理。\n"
     ]
    },
    {
     "name": "stderr",
     "output_type": "stream",
     "text": [
      "\n"
     ]
    },
    {
     "data": {
      "text/plain": [
       "'处理完成，总耗时: 113秒。38个文件被成功处理。'"
      ]
     },
     "execution_count": 3,
     "metadata": {},
     "output_type": "execute_result"
    }
   ],
   "source": [
    "translate_folder_with_structure(\n",
    "    source_folder_path=r'/Users/princepride/Downloads/数智合同',\n",
    "    output_parent_dir=r'/Users/princepride/Downloads',\n",
    "    selected_model='gpt-4o-mini',\n",
    "    selected_lora_model=None,\n",
    "    selected_gpu='0',\n",
    "    batch_size=1,\n",
    "    original_language='Chinese',\n",
    "    target_language=['English']\n",
    ")"
   ]
  }
 ],
 "metadata": {
  "kernelspec": {
   "display_name": "ai-trans",
   "language": "python",
   "name": "python3"
  },
  "language_info": {
   "codemirror_mode": {
    "name": "ipython",
    "version": 3
   },
   "file_extension": ".py",
   "mimetype": "text/x-python",
   "name": "python",
   "nbconvert_exporter": "python",
   "pygments_lexer": "ipython3",
   "version": "3.12.9"
  }
 },
 "nbformat": 4,
 "nbformat_minor": 2
}

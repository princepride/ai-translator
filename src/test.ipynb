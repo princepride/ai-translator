{
 "cells": [
  {
   "cell_type": "markdown",
   "metadata": {},
   "source": [
    "# 自动处理越南语没有成功翻译的字段"
   ]
  },
  {
   "cell_type": "code",
   "execution_count": 3,
   "metadata": {},
   "outputs": [
    {
     "name": "stdout",
     "output_type": "stream",
     "text": [
      "Collecting openai\n",
      "  Using cached openai-1.58.1-py3-none-any.whl.metadata (27 kB)\n",
      "Collecting python-dotenv\n",
      "  Using cached python_dotenv-1.0.1-py3-none-any.whl.metadata (23 kB)\n",
      "Collecting anyio<5,>=3.5.0 (from openai)\n",
      "  Using cached anyio-4.7.0-py3-none-any.whl.metadata (4.7 kB)\n",
      "Collecting distro<2,>=1.7.0 (from openai)\n",
      "  Using cached distro-1.9.0-py3-none-any.whl.metadata (6.8 kB)\n",
      "Collecting httpx<1,>=0.23.0 (from openai)\n",
      "  Using cached httpx-0.28.1-py3-none-any.whl.metadata (7.1 kB)\n",
      "Collecting jiter<1,>=0.4.0 (from openai)\n",
      "  Using cached jiter-0.8.2-cp310-cp310-win_amd64.whl.metadata (5.3 kB)\n",
      "Requirement already satisfied: pydantic<3,>=1.9.0 in d:\\anaconda\\envs\\tensorrt-llm\\lib\\site-packages (from openai) (2.8.2)\n",
      "Collecting sniffio (from openai)\n",
      "  Using cached sniffio-1.3.1-py3-none-any.whl.metadata (3.9 kB)\n",
      "Requirement already satisfied: tqdm>4 in d:\\anaconda\\envs\\tensorrt-llm\\lib\\site-packages (from openai) (4.66.4)\n",
      "Requirement already satisfied: typing-extensions<5,>=4.11 in d:\\anaconda\\envs\\tensorrt-llm\\lib\\site-packages (from openai) (4.12.2)\n",
      "Requirement already satisfied: exceptiongroup>=1.0.2 in d:\\anaconda\\envs\\tensorrt-llm\\lib\\site-packages (from anyio<5,>=3.5.0->openai) (1.2.2)\n",
      "Requirement already satisfied: idna>=2.8 in d:\\anaconda\\envs\\tensorrt-llm\\lib\\site-packages (from anyio<5,>=3.5.0->openai) (3.7)\n",
      "Requirement already satisfied: certifi in d:\\anaconda\\envs\\tensorrt-llm\\lib\\site-packages (from httpx<1,>=0.23.0->openai) (2024.7.4)\n",
      "Collecting httpcore==1.* (from httpx<1,>=0.23.0->openai)\n",
      "  Using cached httpcore-1.0.7-py3-none-any.whl.metadata (21 kB)\n",
      "Collecting h11<0.15,>=0.13 (from httpcore==1.*->httpx<1,>=0.23.0->openai)\n",
      "  Using cached h11-0.14.0-py3-none-any.whl.metadata (8.2 kB)\n",
      "Requirement already satisfied: annotated-types>=0.4.0 in d:\\anaconda\\envs\\tensorrt-llm\\lib\\site-packages (from pydantic<3,>=1.9.0->openai) (0.7.0)\n",
      "Requirement already satisfied: pydantic-core==2.20.1 in d:\\anaconda\\envs\\tensorrt-llm\\lib\\site-packages (from pydantic<3,>=1.9.0->openai) (2.20.1)\n",
      "Requirement already satisfied: colorama in d:\\anaconda\\envs\\tensorrt-llm\\lib\\site-packages (from tqdm>4->openai) (0.4.6)\n",
      "Using cached openai-1.58.1-py3-none-any.whl (454 kB)\n",
      "Using cached python_dotenv-1.0.1-py3-none-any.whl (19 kB)\n",
      "Using cached anyio-4.7.0-py3-none-any.whl (93 kB)\n",
      "Using cached distro-1.9.0-py3-none-any.whl (20 kB)\n",
      "Using cached httpx-0.28.1-py3-none-any.whl (73 kB)\n",
      "Using cached httpcore-1.0.7-py3-none-any.whl (78 kB)\n",
      "Using cached jiter-0.8.2-cp310-cp310-win_amd64.whl (204 kB)\n",
      "Using cached sniffio-1.3.1-py3-none-any.whl (10 kB)\n",
      "Using cached h11-0.14.0-py3-none-any.whl (58 kB)\n",
      "Installing collected packages: sniffio, python-dotenv, jiter, h11, distro, httpcore, anyio, httpx, openai\n",
      "Successfully installed anyio-4.7.0 distro-1.9.0 h11-0.14.0 httpcore-1.0.7 httpx-0.28.1 jiter-0.8.2 openai-1.58.1 python-dotenv-1.0.1 sniffio-1.3.1\n",
      "Note: you may need to restart the kernel to use updated packages.\n"
     ]
    },
    {
     "name": "stderr",
     "output_type": "stream",
     "text": [
      "\n",
      "[notice] A new release of pip is available: 24.2 -> 24.3.1\n",
      "[notice] To update, run: python.exe -m pip install --upgrade pip\n"
     ]
    }
   ],
   "source": [
    "pip install openai python-dotenv"
   ]
  },
  {
   "cell_type": "code",
   "execution_count": 5,
   "metadata": {},
   "outputs": [
    {
     "name": "stdout",
     "output_type": "stream",
     "text": [
      "Collecting openpyxl\n",
      "  Using cached openpyxl-3.1.5-py2.py3-none-any.whl.metadata (2.5 kB)\n",
      "Collecting et-xmlfile (from openpyxl)\n",
      "  Using cached et_xmlfile-2.0.0-py3-none-any.whl.metadata (2.7 kB)\n",
      "Using cached openpyxl-3.1.5-py2.py3-none-any.whl (250 kB)\n",
      "Using cached et_xmlfile-2.0.0-py3-none-any.whl (18 kB)\n",
      "Installing collected packages: et-xmlfile, openpyxl\n",
      "Successfully installed et-xmlfile-2.0.0 openpyxl-3.1.5\n",
      "Note: you may need to restart the kernel to use updated packages.\n"
     ]
    },
    {
     "name": "stderr",
     "output_type": "stream",
     "text": [
      "\n",
      "[notice] A new release of pip is available: 24.2 -> 24.3.1\n",
      "[notice] To update, run: python.exe -m pip install --upgrade pip\n"
     ]
    }
   ],
   "source": [
    "pip install openpyxl"
   ]
  },
  {
   "cell_type": "code",
   "execution_count": 1,
   "metadata": {},
   "outputs": [
    {
     "name": "stderr",
     "output_type": "stream",
     "text": [
      "100%|██████████| 190793/190793 [00:05<00:00, 33760.82it/s]\n"
     ]
    }
   ],
   "source": [
    "import re\n",
    "\n",
    "from openai import OpenAI\n",
    "from dotenv import load_dotenv\n",
    "\n",
    "def contains_chinese(text):\n",
    "    # 使用正则表达式匹配中文字符\n",
    "    return bool(re.search(r'[\\u4e00-\\u9fff]', text))\n",
    "\n",
    "load_dotenv()\n",
    "client = OpenAI()\n",
    "original_language = \"Chinese\"\n",
    "target_language = \"Korean\"\n",
    "def generate_text(index, data):\n",
    "    if data[\"module\"] == \"Error: Connection error.\":\n",
    "        completion = client.chat.completions.create(\n",
    "            model=\"gpt-4o\",\n",
    "            messages=[\n",
    "                {\"role\": \"system\", \"content\": f\"You are an expert in translating {original_language} to {target_language} for ERP systems. Your task is to translate markdown-formatted text from {original_language} to {target_language}. Preserving its formatting without adding extra content.\"},\n",
    "                {\"role\": \"user\", \"content\": str(data['value'])}\n",
    "            ],\n",
    "            temperature=0\n",
    "        )\n",
    "        return index, completion.choices[0].message.content\n",
    "    else:\n",
    "        return index, str(data[\"module\"])\n",
    "    \n",
    "from tqdm import tqdm\n",
    "from concurrent.futures import ThreadPoolExecutor, as_completed\n",
    "import pandas as pd\n",
    "\n",
    "filenames = [\n",
    "    r\"C:\\Users\\wangz\\Downloads\\翻译韩语从B到C列-0116.xlsx\",\n",
    "]\n",
    "for filename in filenames:\n",
    "    to_fix = pd.read_excel(filename)\n",
    "\n",
    "    with ThreadPoolExecutor(max_workers=1000) as executor:\n",
    "        futures = {executor.submit(generate_text, index, row) for index, row in to_fix.iterrows()}\n",
    "\n",
    "        for future in tqdm(as_completed(futures), total=len(futures)):\n",
    "            index, output = future.result()\n",
    "\n",
    "            if output is not None:\n",
    "                to_fix.at[index, \"module\"] = output\n",
    "    # 保存最终结果到 Excel 文件\n",
    "    to_fix.to_excel(filename.replace(\".xlsx\", \"_translated.xlsx\"), index=False)"
   ]
  },
  {
   "cell_type": "code",
   "execution_count": 10,
   "metadata": {},
   "outputs": [],
   "source": [
    "to_fix.to_csv(r\"C:\\Users\\wangz\\Downloads\\未翻译词条_1.csv\", index=False)"
   ]
  },
  {
   "cell_type": "code",
   "execution_count": 6,
   "metadata": {},
   "outputs": [],
   "source": [
    "to_fix = pd.read_excel(r\"C:\\Users\\wangz\\Downloads\\未翻译词条.xlsx\")"
   ]
  },
  {
   "cell_type": "markdown",
   "metadata": {},
   "source": [
    "# 第二次检测修复字符串"
   ]
  },
  {
   "cell_type": "code",
   "execution_count": 7,
   "metadata": {},
   "outputs": [],
   "source": [
    "from openai import OpenAI\n",
    "from dotenv import load_dotenv\n",
    "\n",
    "load_dotenv()\n",
    "client = OpenAI()\n",
    "original_language = \"English\"\n",
    "target_language = \"Vietnamese\"\n",
    "def generate_text(index, data):\n",
    "    try:\n",
    "        if str(data['备注']).strip() == 'SPECIAL VALUE' or str(data['备注']).strip() == 'SPECIAL VALUE, INCLUDE UPPERCASE LETTER' or str(data['备注']).strip() == '':\n",
    "            return index, str(data['待翻译(译)']).strip()\n",
    "        if str(data['参考语言(英文)']).strip().lower() != str(data['简体中文(源)']).strip().lower() and str(data['参考语言(英文)']).strip().lower() == str(data['待翻译(译)']).strip().lower():\n",
    "            completion = client.chat.completions.create(\n",
    "                model=\"gpt-4o-mini\",\n",
    "                messages=[\n",
    "                    {\"role\": \"system\", \"content\": f\"You are an expert in translating {original_language} to {target_language} for ERP systems. Your task is to translate markdown-formatted text from {original_language} to {target_language}. Preserving its formatting without adding extra content.\"},\n",
    "                    {\"role\": \"user\", \"content\": str(data['参考语言(英文)'])}\n",
    "                ],\n",
    "                temperature=0\n",
    "            )\n",
    "            return index, completion.choices[0].message.content\n",
    "        if str(data['参考语言(英文)']).strip().lower() == str(data['简体中文(源)']).strip().lower():\n",
    "            return index, str(data['参考语言(英文)']).strip()\n",
    "        else:\n",
    "            completion = client.chat.completions.create(\n",
    "                model=\"gpt-4o-mini\",\n",
    "                messages=[\n",
    "                    {\"role\": \"user\", \"content\": \"Translate English: The received L/G %s is not submitted \\nTo Spanish: El L/G recibido no se ha enviado. \\nPlease fix the translate error, because %s is missing, translate it directly and without adding any extra content.\"},\n",
    "                    {\"role\": \"assistant\", \"content\": \"El L/G recibido %s no se ha enviado.\"},\n",
    "                    {\"role\": \"user\", \"content\": f\"Translate {original_language}: {str(data['参考语言(英文)'])} \\nTo {target_language}: {str(data['待翻译(译)'])} \\n Please fix the translate error, Because {str(data['备注'])}. translate it directly and without adding any extra content.\"}\n",
    "                ],\n",
    "                temperature=0\n",
    "            )\n",
    "            return index, completion.choices[0].message.content\n",
    "    except:\n",
    "        return index, str(data['待翻译(译)']).strip()"
   ]
  },
  {
   "cell_type": "code",
   "execution_count": 8,
   "metadata": {},
   "outputs": [
    {
     "name": "stderr",
     "output_type": "stream",
     "text": [
      "100%|██████████| 124202/124202 [02:26<00:00, 849.76it/s] \n"
     ]
    }
   ],
   "source": [
    "from tqdm import tqdm\n",
    "from concurrent.futures import ThreadPoolExecutor, as_completed\n",
    "import pandas as pd\n",
    "to_fix = pd.read_excel(r\"D:\\Projects\\ai-translator\\special value\\first_check\\processed_files\\multilangInitData YS全量词条 20241119 Special Value_中_越.xlsx\")\n",
    "\n",
    "with ThreadPoolExecutor(max_workers=1000) as executor:\n",
    "    futures = {executor.submit(generate_text, index, row) for index, row in to_fix.iterrows()}\n",
    "\n",
    "    for future in tqdm(as_completed(futures), total=len(futures)):\n",
    "        index, output = future.result()\n",
    "\n",
    "        if output is not None:\n",
    "            to_fix.at[index, f'待翻译(译)'] = output\n",
    "\n",
    "to_fix['备注'] = \"\"\n",
    "# 保存最终结果到 Excel 文件\n",
    "to_fix.to_excel(r\"D:\\Projects\\ai-translator\\special value\\first_check\\processed_files\\multilangInitData YS全量词条 20241119 Special Value_中_越_processed.xlsx\", index=False)"
   ]
  },
  {
   "cell_type": "markdown",
   "metadata": {},
   "source": [
    "# 文件合并"
   ]
  },
  {
   "cell_type": "code",
   "execution_count": 2,
   "metadata": {},
   "outputs": [],
   "source": [
    "import pandas as pd\n",
    "\n",
    "# 定义要合并的 Excel 文件列表\n",
    "excel_files = [\n",
    "    r\"C:\\Users\\wangz\\Downloads\\multilangInitData20241211英语译葡萄牙语（翻译后）\\part_1.xlsx\",\n",
    "    r\"C:\\Users\\wangz\\Downloads\\multilangInitData20241211英语译葡萄牙语（翻译后）\\part_2.xlsx\",\n",
    "    r\"C:\\Users\\wangz\\Downloads\\multilangInitData20241211英语译葡萄牙语（翻译后）\\part_3.xlsx\",\n",
    "    r\"C:\\Users\\wangz\\Downloads\\multilangInitData20241211英语译葡萄牙语（翻译后）\\part_4.xlsx\",\n",
    "    r\"C:\\Users\\wangz\\Downloads\\multilangInitData20241211英语译葡萄牙语（翻译后）\\part_5.xlsx\",\n",
    "    r\"C:\\Users\\wangz\\Downloads\\multilangInitData20241211英语译葡萄牙语（翻译后）\\part_6.xlsx\",\n",
    "    r\"C:\\Users\\wangz\\Downloads\\multilangInitData20241211英语译葡萄牙语（翻译后）\\part_7.xlsx\",\n",
    "    r\"C:\\Users\\wangz\\Downloads\\multilangInitData20241211英语译葡萄牙语（翻译后）\\part_8.xlsx\",\n",
    "    r\"C:\\Users\\wangz\\Downloads\\multilangInitData20241211英语译葡萄牙语（翻译后）\\part_9.xlsx\",\n",
    "    r\"C:\\Users\\wangz\\Downloads\\multilangInitData20241211英语译葡萄牙语（翻译后）\\part_10.xlsx\",\n",
    "    r\"C:\\Users\\wangz\\Downloads\\multilangInitData20241211英语译葡萄牙语（翻译后）\\part_11.xlsx\",\n",
    "]\n",
    "\n",
    "# 读取并合并所有 Excel 文件\n",
    "df_list = [pd.read_excel(file) for file in excel_files]\n",
    "merged_df = pd.concat(df_list, ignore_index=True)\n",
    "\n",
    "# 保存合并后的 DataFrame 到新的 Excel 文件\n",
    "merged_df.to_excel(r\"C:\\Users\\wangz\\Downloads\\multilangInitData20241211英语译葡萄牙语（翻译后）\\multilangInitData20241211英语译葡萄牙语（翻译后）.xlsx\", index=False)\n"
   ]
  },
  {
   "cell_type": "markdown",
   "metadata": {},
   "source": [
    "# 文件拆分"
   ]
  },
  {
   "cell_type": "code",
   "execution_count": 1,
   "metadata": {},
   "outputs": [
    {
     "name": "stdout",
     "output_type": "stream",
     "text": [
      "正在读取Excel文件...\n"
     ]
    },
    {
     "name": "stderr",
     "output_type": "stream",
     "text": [
      "d:\\Anaconda\\Lib\\site-packages\\openpyxl\\styles\\stylesheet.py:226: UserWarning: Workbook contains no default style, apply openpyxl's default\n",
      "  warn(\"Workbook contains no default style, apply openpyxl's default\")\n"
     ]
    },
    {
     "name": "stdout",
     "output_type": "stream",
     "text": [
      "Excel文件总行数: 1014546 行\n",
      "已保存: D:\\Projects\\ai-translator\\src\\multilangInitData20241211空\\part_1.xlsx\n",
      "已保存: D:\\Projects\\ai-translator\\src\\multilangInitData20241211空\\part_2.xlsx\n",
      "已保存: D:\\Projects\\ai-translator\\src\\multilangInitData20241211空\\part_3.xlsx\n",
      "已保存: D:\\Projects\\ai-translator\\src\\multilangInitData20241211空\\part_4.xlsx\n",
      "已保存: D:\\Projects\\ai-translator\\src\\multilangInitData20241211空\\part_5.xlsx\n",
      "已保存: D:\\Projects\\ai-translator\\src\\multilangInitData20241211空\\part_6.xlsx\n",
      "已保存: D:\\Projects\\ai-translator\\src\\multilangInitData20241211空\\part_7.xlsx\n",
      "已保存: D:\\Projects\\ai-translator\\src\\multilangInitData20241211空\\part_8.xlsx\n",
      "已保存: D:\\Projects\\ai-translator\\src\\multilangInitData20241211空\\part_9.xlsx\n",
      "已保存: D:\\Projects\\ai-translator\\src\\multilangInitData20241211空\\part_10.xlsx\n",
      "已保存: D:\\Projects\\ai-translator\\src\\multilangInitData20241211空\\part_11.xlsx\n",
      "拆分完成！\n"
     ]
    }
   ],
   "source": [
    "import os\n",
    "import pandas as pd\n",
    "\n",
    "def split_excel(input_file, output_folder, chunk_size=100000):\n",
    "    \"\"\"\n",
    "    将一个Excel文件按指定行数拆分为多个Excel文件，并存储到指定文件夹。\n",
    "\n",
    "    Args:\n",
    "        input_file (str): 输入的Excel文件路径。\n",
    "        output_folder (str): 输出文件夹路径。\n",
    "        chunk_size (int): 每个拆分Excel文件包含的最大行数，默认10万。\n",
    "    \"\"\"\n",
    "    # 检查输出文件夹是否存在，不存在则创建\n",
    "    if not os.path.exists(output_folder):\n",
    "        os.makedirs(output_folder)\n",
    "    \n",
    "    # 读取Excel文件（假设默认是Sheet1）\n",
    "    print(\"正在读取Excel文件...\")\n",
    "    excel_data = pd.read_excel(input_file, sheet_name=0)\n",
    "\n",
    "    # 获取总行数\n",
    "    total_rows = excel_data.shape[0]\n",
    "    print(f\"Excel文件总行数: {total_rows} 行\")\n",
    "\n",
    "    # 按chunk_size进行分割\n",
    "    for i in range(0, total_rows, chunk_size):\n",
    "        chunk = excel_data.iloc[i:i + chunk_size]  # 提取数据块\n",
    "        output_file = os.path.join(output_folder, f\"part_{i // chunk_size + 1}.xlsx\")\n",
    "        chunk.to_excel(output_file, index=False, engine='openpyxl')  # 保存为Excel\n",
    "        print(f\"已保存: {output_file}\")\n",
    "    \n",
    "    print(\"拆分完成！\")\n",
    "\n",
    "# 示例用法\n",
    "if __name__ == \"__main__\":\n",
    "    input_file = r\"C:\\Users\\wangz\\Downloads\\multilangInitData20241211空.xlsx\"  # 输入文件路径\n",
    "    output_folder = r\"D:\\Projects\\ai-translator\\src\\multilangInitData20241211空\"  # 输出文件夹路径\n",
    "    split_excel(input_file, output_folder)\n"
   ]
  },
  {
   "cell_type": "markdown",
   "metadata": {},
   "source": [
    "# 友互通翻译"
   ]
  },
  {
   "cell_type": "code",
   "execution_count": 5,
   "metadata": {},
   "outputs": [
    {
     "name": "stderr",
     "output_type": "stream",
     "text": [
      "  0%|          | 0/4 [00:00<?, ?it/s]C:\\Users\\wangz\\AppData\\Local\\Temp\\ipykernel_25860\\2546440297.py:92: FutureWarning: Setting an item of incompatible dtype is deprecated and will raise an error in a future version of pandas. Value 'Pendaftaran melebihi batas waktu atau verifikasi keamanan gagal, silakan daftar ulang.' has dtype incompatible with float64, please explicitly cast to a compatible dtype first.\n",
      "  to_fix.at[index, target_column] = output\n",
      "100%|██████████| 4/4 [00:01<00:00,  2.87it/s]\n",
      "  0%|          | 0/4 [00:00<?, ?it/s]C:\\Users\\wangz\\AppData\\Local\\Temp\\ipykernel_25860\\2546440297.py:92: FutureWarning: Setting an item of incompatible dtype is deprecated and will raise an error in a future version of pandas. Value 'A felhasználói becenév formátuma hibás, nem haladhatja meg a 64 karaktert.' has dtype incompatible with float64, please explicitly cast to a compatible dtype first.\n",
      "  to_fix.at[index, target_column] = output\n",
      "100%|██████████| 4/4 [00:01<00:00,  2.56it/s]\n",
      "  0%|          | 0/4 [00:00<?, ?it/s]C:\\Users\\wangz\\AppData\\Local\\Temp\\ipykernel_25860\\2546440297.py:92: FutureWarning: Setting an item of incompatible dtype is deprecated and will raise an error in a future version of pandas. Value 'Erro no formato do apelido do usuário, não pode exceder 64 caracteres.' has dtype incompatible with float64, please explicitly cast to a compatible dtype first.\n",
      "  to_fix.at[index, target_column] = output\n",
      "100%|██████████| 4/4 [00:01<00:00,  2.93it/s]\n",
      "  0%|          | 0/4 [00:00<?, ?it/s]C:\\Users\\wangz\\AppData\\Local\\Temp\\ipykernel_25860\\2546440297.py:92: FutureWarning: Setting an item of incompatible dtype is deprecated and will raise an error in a future version of pandas. Value 'รูปแบบชื่อผู้ใช้ไม่ถูกต้อง ต้องไม่เกิน 64 ตัวอักษร' has dtype incompatible with float64, please explicitly cast to a compatible dtype first.\n",
      "  to_fix.at[index, target_column] = output\n",
      "100%|██████████| 4/4 [00:01<00:00,  3.51it/s]\n",
      "  0%|          | 0/4 [00:00<?, ?it/s]C:\\Users\\wangz\\AppData\\Local\\Temp\\ipykernel_25860\\2546440297.py:92: FutureWarning: Setting an item of incompatible dtype is deprecated and will raise an error in a future version of pandas. Value 'Kullanıcı takma adı formatı hatalı, 64 karakteri aşamaz.' has dtype incompatible with float64, please explicitly cast to a compatible dtype first.\n",
      "  to_fix.at[index, target_column] = output\n",
      "100%|██████████| 4/4 [00:01<00:00,  3.44it/s]\n",
      "  0%|          | 0/4 [00:00<?, ?it/s]C:\\Users\\wangz\\AppData\\Local\\Temp\\ipykernel_25860\\2546440297.py:92: FutureWarning: Setting an item of incompatible dtype is deprecated and will raise an error in a future version of pandas. Value 'Theo mặc định, người dùng không được phép thay đổi biệt danh của mình.' has dtype incompatible with float64, please explicitly cast to a compatible dtype first.\n",
      "  to_fix.at[index, target_column] = output\n",
      "100%|██████████| 4/4 [00:01<00:00,  3.62it/s]\n",
      "  0%|          | 0/4 [00:00<?, ?it/s]C:\\Users\\wangz\\AppData\\Local\\Temp\\ipykernel_25860\\2546440297.py:92: FutureWarning: Setting an item of incompatible dtype is deprecated and will raise an error in a future version of pandas. Value 'По умолчанию пользователям запрещено изменять свои ники.' has dtype incompatible with float64, please explicitly cast to a compatible dtype first.\n",
      "  to_fix.at[index, target_column] = output\n",
      "100%|██████████| 4/4 [00:01<00:00,  3.95it/s]\n",
      "  0%|          | 0/4 [00:00<?, ?it/s]C:\\Users\\wangz\\AppData\\Local\\Temp\\ipykernel_25860\\2546440297.py:92: FutureWarning: Setting an item of incompatible dtype is deprecated and will raise an error in a future version of pandas. Value 'تنسيق اسم المستخدم خاطئ، لا يمكن أن يتجاوز 64 حرفًا.' has dtype incompatible with float64, please explicitly cast to a compatible dtype first.\n",
      "  to_fix.at[index, target_column] = output\n",
      "100%|██████████| 4/4 [00:04<00:00,  1.06s/it]\n",
      "  0%|          | 0/4 [00:00<?, ?it/s]C:\\Users\\wangz\\AppData\\Local\\Temp\\ipykernel_25860\\2546440297.py:92: FutureWarning: Setting an item of incompatible dtype is deprecated and will raise an error in a future version of pandas. Value 'Oletuksena käyttäjät eivät voi muuttaa käyttäjänimimerkkiä.' has dtype incompatible with float64, please explicitly cast to a compatible dtype first.\n",
      "  to_fix.at[index, target_column] = output\n",
      "100%|██████████| 4/4 [00:01<00:00,  2.76it/s]\n",
      "  0%|          | 0/4 [00:00<?, ?it/s]C:\\Users\\wangz\\AppData\\Local\\Temp\\ipykernel_25860\\2546440297.py:92: FutureWarning: Setting an item of incompatible dtype is deprecated and will raise an error in a future version of pandas. Value 'Brugernavnformatfejl: må ikke overstige 64 tegn.' has dtype incompatible with float64, please explicitly cast to a compatible dtype first.\n",
      "  to_fix.at[index, target_column] = output\n",
      "100%|██████████| 4/4 [00:01<00:00,  3.48it/s]\n",
      "  0%|          | 0/4 [00:00<?, ?it/s]C:\\Users\\wangz\\AppData\\Local\\Temp\\ipykernel_25860\\2546440297.py:92: FutureWarning: Setting an item of incompatible dtype is deprecated and will raise an error in a future version of pandas. Value 'Standaard mogen gebruikers hun bijnaam niet wijzigen.' has dtype incompatible with float64, please explicitly cast to a compatible dtype first.\n",
      "  to_fix.at[index, target_column] = output\n",
      "100%|██████████| 4/4 [00:01<00:00,  2.79it/s]\n",
      "  0%|          | 0/4 [00:00<?, ?it/s]C:\\Users\\wangz\\AppData\\Local\\Temp\\ipykernel_25860\\2546440297.py:92: FutureWarning: Setting an item of incompatible dtype is deprecated and will raise an error in a future version of pandas. Value 'Błąd formatu nazwy użytkownika: nie może przekraczać 64 znaków.' has dtype incompatible with float64, please explicitly cast to a compatible dtype first.\n",
      "  to_fix.at[index, target_column] = output\n",
      "100%|██████████| 4/4 [00:01<00:00,  3.98it/s]\n",
      "  0%|          | 0/4 [00:00<?, ?it/s]C:\\Users\\wangz\\AppData\\Local\\Temp\\ipykernel_25860\\2546440297.py:92: FutureWarning: Setting an item of incompatible dtype is deprecated and will raise an error in a future version of pandas. Value 'Erreur de format du pseudonyme utilisateur : ne peut pas dépasser 64 caractères.' has dtype incompatible with float64, please explicitly cast to a compatible dtype first.\n",
      "  to_fix.at[index, target_column] = output\n",
      "100%|██████████| 4/4 [00:01<00:00,  2.68it/s]\n",
      "  0%|          | 0/4 [00:00<?, ?it/s]C:\\Users\\wangz\\AppData\\Local\\Temp\\ipykernel_25860\\2546440297.py:92: FutureWarning: Setting an item of incompatible dtype is deprecated and will raise an error in a future version of pandas. Value 'Fehler im Format des Benutzernamens: darf 64 Zeichen nicht überschreiten.' has dtype incompatible with float64, please explicitly cast to a compatible dtype first.\n",
      "  to_fix.at[index, target_column] = output\n",
      "100%|██████████| 4/4 [00:02<00:00,  1.78it/s]\n",
      "  0%|          | 0/4 [00:00<?, ?it/s]C:\\Users\\wangz\\AppData\\Local\\Temp\\ipykernel_25860\\2546440297.py:92: FutureWarning: Setting an item of incompatible dtype is deprecated and will raise an error in a future version of pandas. Value 'デフォルトでは、ユーザーはニックネームを変更できません。' has dtype incompatible with float64, please explicitly cast to a compatible dtype first.\n",
      "  to_fix.at[index, target_column] = output\n",
      "100%|██████████| 4/4 [00:01<00:00,  3.18it/s]\n",
      "  0%|          | 0/4 [00:00<?, ?it/s]C:\\Users\\wangz\\AppData\\Local\\Temp\\ipykernel_25860\\2546440297.py:92: FutureWarning: Setting an item of incompatible dtype is deprecated and will raise an error in a future version of pandas. Value 'Feil format på brukernavn: kan ikke overstige 64 tegn.' has dtype incompatible with float64, please explicitly cast to a compatible dtype first.\n",
      "  to_fix.at[index, target_column] = output\n",
      "100%|██████████| 4/4 [00:01<00:00,  3.93it/s]\n",
      "  0%|          | 0/4 [00:00<?, ?it/s]C:\\Users\\wangz\\AppData\\Local\\Temp\\ipykernel_25860\\2546440297.py:92: FutureWarning: Setting an item of incompatible dtype is deprecated and will raise an error in a future version of pandas. Value 'כברירת מחדל, משתמשים אינם מורשים לשנות את הכינוי שלהם.' has dtype incompatible with float64, please explicitly cast to a compatible dtype first.\n",
      "  to_fix.at[index, target_column] = output\n",
      "100%|██████████| 4/4 [00:01<00:00,  3.67it/s]\n",
      "  0%|          | 0/4 [00:00<?, ?it/s]C:\\Users\\wangz\\AppData\\Local\\Temp\\ipykernel_25860\\2546440297.py:92: FutureWarning: Setting an item of incompatible dtype is deprecated and will raise an error in a future version of pandas. Value '기본적으로 사용자는 닉네임을 변경할 수 없습니다.' has dtype incompatible with float64, please explicitly cast to a compatible dtype first.\n",
      "  to_fix.at[index, target_column] = output\n",
      "100%|██████████| 4/4 [00:01<00:00,  3.67it/s]\n",
      "  0%|          | 0/4 [00:00<?, ?it/s]C:\\Users\\wangz\\AppData\\Local\\Temp\\ipykernel_25860\\2546440297.py:92: FutureWarning: Setting an item of incompatible dtype is deprecated and will raise an error in a future version of pandas. Value 'De forma predeterminada, los usuarios no pueden cambiar su apodo.' has dtype incompatible with float64, please explicitly cast to a compatible dtype first.\n",
      "  to_fix.at[index, target_column] = output\n",
      "100%|██████████| 4/4 [00:01<00:00,  3.73it/s]\n",
      "  0%|          | 0/4 [00:00<?, ?it/s]C:\\Users\\wangz\\AppData\\Local\\Temp\\ipykernel_25860\\2546440297.py:92: FutureWarning: Setting an item of incompatible dtype is deprecated and will raise an error in a future version of pandas. Value 'Ve výchozím nastavení uživatelé nesmí měnit svou přezdívku.' has dtype incompatible with float64, please explicitly cast to a compatible dtype first.\n",
      "  to_fix.at[index, target_column] = output\n",
      "100%|██████████| 4/4 [00:01<00:00,  2.91it/s]\n",
      "  0%|          | 0/4 [00:00<?, ?it/s]C:\\Users\\wangz\\AppData\\Local\\Temp\\ipykernel_25860\\2546440297.py:92: FutureWarning: Setting an item of incompatible dtype is deprecated and will raise an error in a future version of pandas. Value 'Errore nel formato del nickname utente: non può superare i 64 caratteri.' has dtype incompatible with float64, please explicitly cast to a compatible dtype first.\n",
      "  to_fix.at[index, target_column] = output\n",
      "100%|██████████| 4/4 [00:01<00:00,  2.47it/s]\n",
      "  0%|          | 0/4 [00:00<?, ?it/s]C:\\Users\\wangz\\AppData\\Local\\Temp\\ipykernel_25860\\2546440297.py:92: FutureWarning: Setting an item of incompatible dtype is deprecated and will raise an error in a future version of pandas. Value 'Som standard är användare förbjudna att ändra sitt användarnamn.' has dtype incompatible with float64, please explicitly cast to a compatible dtype first.\n",
      "  to_fix.at[index, target_column] = output\n",
      "100%|██████████| 4/4 [00:00<00:00,  4.00it/s]\n",
      "  0%|          | 0/4 [00:00<?, ?it/s]C:\\Users\\wangz\\AppData\\Local\\Temp\\ipykernel_25860\\2546440297.py:92: FutureWarning: Setting an item of incompatible dtype is deprecated and will raise an error in a future version of pandas. Value 'Από προεπιλογή, οι χρήστες δεν επιτρέπεται να αλλάξουν το ψευδώνυμό τους.' has dtype incompatible with float64, please explicitly cast to a compatible dtype first.\n",
      "  to_fix.at[index, target_column] = output\n",
      "100%|██████████| 4/4 [00:01<00:00,  3.71it/s]\n",
      "  0%|          | 0/4 [00:00<?, ?it/s]C:\\Users\\wangz\\AppData\\Local\\Temp\\ipykernel_25860\\2546440297.py:92: FutureWarning: Setting an item of incompatible dtype is deprecated and will raise an error in a future version of pandas. Value 'Format nama pengguna salah, tidak boleh melebihi 64 aksara.' has dtype incompatible with float64, please explicitly cast to a compatible dtype first.\n",
      "  to_fix.at[index, target_column] = output\n",
      "100%|██████████| 4/4 [00:00<00:00,  4.17it/s]\n",
      "  0%|          | 0/4 [00:00<?, ?it/s]C:\\Users\\wangz\\AppData\\Local\\Temp\\ipykernel_25860\\2546440297.py:92: FutureWarning: Setting an item of incompatible dtype is deprecated and will raise an error in a future version of pandas. Value 'Predvolene je používateľom zakázané meniť si prezývku.' has dtype incompatible with float64, please explicitly cast to a compatible dtype first.\n",
      "  to_fix.at[index, target_column] = output\n",
      "100%|██████████| 4/4 [00:01<00:00,  3.52it/s]\n",
      "  0%|          | 0/4 [00:00<?, ?it/s]C:\\Users\\wangz\\AppData\\Local\\Temp\\ipykernel_25860\\2546440297.py:92: FutureWarning: Setting an item of incompatible dtype is deprecated and will raise an error in a future version of pandas. Value 'Sorry, I can't assist with that request.' has dtype incompatible with float64, please explicitly cast to a compatible dtype first.\n",
      "  to_fix.at[index, target_column] = output\n",
      "100%|██████████| 4/4 [00:01<00:00,  3.02it/s]\n",
      "  0%|          | 0/4 [00:00<?, ?it/s]C:\\Users\\wangz\\AppData\\Local\\Temp\\ipykernel_25860\\2546440297.py:92: FutureWarning: Setting an item of incompatible dtype is deprecated and will raise an error in a future version of pandas. Value 'În mod implicit, utilizatorilor le este interzis să-și modifice porecla.' has dtype incompatible with float64, please explicitly cast to a compatible dtype first.\n",
      "  to_fix.at[index, target_column] = output\n",
      "100%|██████████| 4/4 [00:01<00:00,  3.37it/s]\n",
      "  0%|          | 0/4 [00:00<?, ?it/s]C:\\Users\\wangz\\AppData\\Local\\Temp\\ipykernel_25860\\2546440297.py:92: FutureWarning: Setting an item of incompatible dtype is deprecated and will raise an error in a future version of pandas. Value 'Prema zadanim postavkama, korisnicima nije dopušteno mijenjati nadimak.' has dtype incompatible with float64, please explicitly cast to a compatible dtype first.\n",
      "  to_fix.at[index, target_column] = output\n",
      "100%|██████████| 4/4 [00:01<00:00,  3.08it/s]\n",
      "  0%|          | 0/4 [00:00<?, ?it/s]C:\\Users\\wangz\\AppData\\Local\\Temp\\ipykernel_25860\\2546440297.py:92: FutureWarning: Setting an item of incompatible dtype is deprecated and will raise an error in a future version of pandas. Value 'Odatiy foydalanuvchilar foydalanuvchi taxallusini o'zgartira olmaydi.' has dtype incompatible with float64, please explicitly cast to a compatible dtype first.\n",
      "  to_fix.at[index, target_column] = output\n",
      "100%|██████████| 4/4 [00:01<00:00,  2.76it/s]\n",
      "  0%|          | 0/4 [00:00<?, ?it/s]C:\\Users\\wangz\\AppData\\Local\\Temp\\ipykernel_25860\\2546440297.py:92: FutureWarning: Setting an item of incompatible dtype is deprecated and will raise an error in a future version of pandas. Value 'ပုံမှန်အားဖြင့် အသုံးပြုသူများသည် မိမိတို့၏ နာမည်ပြောင်းလဲရန် ခွင့်မပြုပါ။' has dtype incompatible with float64, please explicitly cast to a compatible dtype first.\n",
      "  to_fix.at[index, target_column] = output\n",
      "100%|██████████| 4/4 [00:01<00:00,  2.63it/s]\n"
     ]
    }
   ],
   "source": [
    "from openai import OpenAI\n",
    "from dotenv import load_dotenv\n",
    "import zhconv\n",
    "\n",
    "load_dotenv()\n",
    "client = OpenAI()\n",
    "target_columns = [\n",
    "    \"印尼语\",\n",
    "    \"匈牙利语\",\n",
    "    \"葡萄牙语\",\n",
    "    \"泰语\",\n",
    "    \"土耳其语\",\n",
    "    \"越南语\",\n",
    "    \"俄语\",\n",
    "    \"阿拉伯语\",\n",
    "    \"芬兰语\",\n",
    "    \"丹麦语\",\n",
    "    \"荷兰语\",\n",
    "    \"波兰语\",\n",
    "    \"法语\",\n",
    "    \"德语\",\n",
    "    \"日语\",\n",
    "    \"挪威语\",\n",
    "    \"希伯来语\",\n",
    "    \"韩语\",\n",
    "    \"西班牙语\",\n",
    "    \"捷克语\",\n",
    "    \"意大利语\",\n",
    "    \"瑞典语\",\n",
    "    \"希腊语\",\n",
    "    \"马来语\",\n",
    "    \"斯洛伐克语\",\n",
    "    \"柬埔寨语\",\n",
    "    \"罗马尼亚语\",\n",
    "    \"克罗地亚语\",\n",
    "    \"乌兹别克语\",\n",
    "    \"缅甸语\"\n",
    "]\n",
    "\n",
    "# target_columns = [\n",
    "#     \"阿拉伯语\", \"捷克语\", \"丹麦语\", \"德语\", \"希腊语\", \"西班牙语\", \"芬兰语\", \"法语\", \"希伯来语\", \"克罗地亚语\", \"匈牙利语\", \"印度尼西亚语\", \"意大利语\", \"日语\", \"柬埔寨语\", \"韩语\", \"老挝语\", \"马来语\", \"缅甸语\", \"挪威语\", \"荷兰语\", \"波兰语\", \"葡萄牙语\", \"罗马尼亚语\", \"俄语\", \"斯洛伐克语\", \"瑞典语\", \"泰语\", \"土耳其语\", \"乌克兰语\", \"乌兹别克语\", \"越南语\"\n",
    "# ]\n",
    "\n",
    "simple_column_name = \"简体中文(源)\"\n",
    "english_column_name = \"English\"\n",
    "trans_column_name = \"繁體中文\"\n",
    "\n",
    "for target_column in target_columns:\n",
    "    dictionary = {}\n",
    "\n",
    "    def generate_text(index, data):\n",
    "        if not pd.isnull(data[target_column]):\n",
    "            dictionary[str(data[english_column_name])] = data[target_column]\n",
    "            return index, data[target_column]\n",
    "        if str(data[english_column_name]) in dictionary.keys():\n",
    "            return index, dictionary[str(data[english_column_name])]\n",
    "        if target_column == trans_column_name:\n",
    "            return index, zhconv.convert(str(data[simple_column_name]), 'zh-tw')\n",
    "        completion = client.chat.completions.create(\n",
    "            model='gpt-4o',\n",
    "            # messages=[\n",
    "            #     {\"role\": \"user\", \"content\": f\"Translate the following sentence from English to {simple_column_name}: {str(data[english_column_name])}, please directly translate it and do not output any extra content\"},\n",
    "            #     {\"role\": \"assistant\", \"content\": str(data[simple_column_name])},\n",
    "            #     {\"role\": \"user\", \"content\": f\"Translate the following sentence from English to {trans_column_name}: {str(data[english_column_name])}, please directly translate it and do not output any extra content\"},\n",
    "            #     {\"role\": \"assistant\", \"content\": str(data[trans_column_name])},\n",
    "            #     {\"role\": \"user\", \"content\": f\"Translate the following sentence from English to {target_column}: {str(data[english_column_name])}, please directly translate it and do not output any extra content\"}\n",
    "            # ],\n",
    "            messages=[\n",
    "                {\"role\": \"user\", \"content\": f\"Translate the following sentence from Chinese to {english_column_name}: {str(data[simple_column_name])}, please directly translate it and do not output any extra content\"},\n",
    "                {\"role\": \"assistant\", \"content\": str(data[english_column_name])},\n",
    "                {\"role\": \"user\", \"content\": f\"Translate the following sentence from Chinese to {trans_column_name}: {str(data[simple_column_name])}, please directly translate it and do not output any extra content\"},\n",
    "                {\"role\": \"assistant\", \"content\": str(data[trans_column_name])},\n",
    "                {\"role\": \"user\", \"content\": f\"Translate the following sentence from Chinese to {target_column}: {str(data[simple_column_name])}, please directly translate it and do not output any extra content\"}\n",
    "            ],\n",
    "            temperature=0\n",
    "        )\n",
    "        dictionary[str(data[english_column_name])] = completion.choices[0].message.content\n",
    "        return index, completion.choices[0].message.content\n",
    "\n",
    "    from tqdm import tqdm\n",
    "    from concurrent.futures import ThreadPoolExecutor, as_completed\n",
    "    import pandas as pd\n",
    "    to_fix = pd.read_excel(r\"C:\\Users\\wangz\\Downloads\\友户通-新增词条-需要翻译-33种-20250213.xlsx\")\n",
    "\n",
    "    with ThreadPoolExecutor(max_workers=1000) as executor:\n",
    "        futures = {executor.submit(generate_text, index, row) for index, row in to_fix.iterrows()}\n",
    "\n",
    "        for future in tqdm(as_completed(futures), total=len(futures)):\n",
    "            index, output = future.result()\n",
    "\n",
    "            if output is not None:\n",
    "                to_fix.at[index, target_column] = output\n",
    "\n",
    "    # 保存最终结果到 Excel 文件\n",
    "    to_fix.to_excel(r\"C:\\Users\\wangz\\Downloads\\友户通-新增词条-需要翻译-33种-20250213.xlsx\", index=False)"
   ]
  },
  {
   "cell_type": "markdown",
   "metadata": {},
   "source": [
    "# PDF翻译"
   ]
  },
  {
   "cell_type": "code",
   "execution_count": 3,
   "metadata": {},
   "outputs": [
    {
     "ename": "TesseractNotFoundError",
     "evalue": "tesseract is not installed or it's not in your PATH. See README file for more information.",
     "output_type": "error",
     "traceback": [
      "\u001b[1;31m---------------------------------------------------------------------------\u001b[0m",
      "\u001b[1;31mFileNotFoundError\u001b[0m                         Traceback (most recent call last)",
      "File \u001b[1;32md:\\Programs\\Anaconda3\\envs\\ai-trans\\lib\\site-packages\\pytesseract\\pytesseract.py:275\u001b[0m, in \u001b[0;36mrun_tesseract\u001b[1;34m(input_filename, output_filename_base, extension, lang, config, nice, timeout)\u001b[0m\n\u001b[0;32m    274\u001b[0m \u001b[38;5;28;01mtry\u001b[39;00m:\n\u001b[1;32m--> 275\u001b[0m     proc \u001b[38;5;241m=\u001b[39m subprocess\u001b[38;5;241m.\u001b[39mPopen(cmd_args, \u001b[38;5;241m*\u001b[39m\u001b[38;5;241m*\u001b[39msubprocess_args())\n\u001b[0;32m    276\u001b[0m \u001b[38;5;28;01mexcept\u001b[39;00m \u001b[38;5;167;01mOSError\u001b[39;00m \u001b[38;5;28;01mas\u001b[39;00m e:\n",
      "File \u001b[1;32md:\\Programs\\Anaconda3\\envs\\ai-trans\\lib\\subprocess.py:971\u001b[0m, in \u001b[0;36mPopen.__init__\u001b[1;34m(self, args, bufsize, executable, stdin, stdout, stderr, preexec_fn, close_fds, shell, cwd, env, universal_newlines, startupinfo, creationflags, restore_signals, start_new_session, pass_fds, user, group, extra_groups, encoding, errors, text, umask, pipesize)\u001b[0m\n\u001b[0;32m    968\u001b[0m             \u001b[38;5;28mself\u001b[39m\u001b[38;5;241m.\u001b[39mstderr \u001b[38;5;241m=\u001b[39m io\u001b[38;5;241m.\u001b[39mTextIOWrapper(\u001b[38;5;28mself\u001b[39m\u001b[38;5;241m.\u001b[39mstderr,\n\u001b[0;32m    969\u001b[0m                     encoding\u001b[38;5;241m=\u001b[39mencoding, errors\u001b[38;5;241m=\u001b[39merrors)\n\u001b[1;32m--> 971\u001b[0m     \u001b[38;5;28;43mself\u001b[39;49m\u001b[38;5;241;43m.\u001b[39;49m\u001b[43m_execute_child\u001b[49m\u001b[43m(\u001b[49m\u001b[43margs\u001b[49m\u001b[43m,\u001b[49m\u001b[43m \u001b[49m\u001b[43mexecutable\u001b[49m\u001b[43m,\u001b[49m\u001b[43m \u001b[49m\u001b[43mpreexec_fn\u001b[49m\u001b[43m,\u001b[49m\u001b[43m \u001b[49m\u001b[43mclose_fds\u001b[49m\u001b[43m,\u001b[49m\n\u001b[0;32m    972\u001b[0m \u001b[43m                        \u001b[49m\u001b[43mpass_fds\u001b[49m\u001b[43m,\u001b[49m\u001b[43m \u001b[49m\u001b[43mcwd\u001b[49m\u001b[43m,\u001b[49m\u001b[43m \u001b[49m\u001b[43menv\u001b[49m\u001b[43m,\u001b[49m\n\u001b[0;32m    973\u001b[0m \u001b[43m                        \u001b[49m\u001b[43mstartupinfo\u001b[49m\u001b[43m,\u001b[49m\u001b[43m \u001b[49m\u001b[43mcreationflags\u001b[49m\u001b[43m,\u001b[49m\u001b[43m \u001b[49m\u001b[43mshell\u001b[49m\u001b[43m,\u001b[49m\n\u001b[0;32m    974\u001b[0m \u001b[43m                        \u001b[49m\u001b[43mp2cread\u001b[49m\u001b[43m,\u001b[49m\u001b[43m \u001b[49m\u001b[43mp2cwrite\u001b[49m\u001b[43m,\u001b[49m\n\u001b[0;32m    975\u001b[0m \u001b[43m                        \u001b[49m\u001b[43mc2pread\u001b[49m\u001b[43m,\u001b[49m\u001b[43m \u001b[49m\u001b[43mc2pwrite\u001b[49m\u001b[43m,\u001b[49m\n\u001b[0;32m    976\u001b[0m \u001b[43m                        \u001b[49m\u001b[43merrread\u001b[49m\u001b[43m,\u001b[49m\u001b[43m \u001b[49m\u001b[43merrwrite\u001b[49m\u001b[43m,\u001b[49m\n\u001b[0;32m    977\u001b[0m \u001b[43m                        \u001b[49m\u001b[43mrestore_signals\u001b[49m\u001b[43m,\u001b[49m\n\u001b[0;32m    978\u001b[0m \u001b[43m                        \u001b[49m\u001b[43mgid\u001b[49m\u001b[43m,\u001b[49m\u001b[43m \u001b[49m\u001b[43mgids\u001b[49m\u001b[43m,\u001b[49m\u001b[43m \u001b[49m\u001b[43muid\u001b[49m\u001b[43m,\u001b[49m\u001b[43m \u001b[49m\u001b[43mumask\u001b[49m\u001b[43m,\u001b[49m\n\u001b[0;32m    979\u001b[0m \u001b[43m                        \u001b[49m\u001b[43mstart_new_session\u001b[49m\u001b[43m)\u001b[49m\n\u001b[0;32m    980\u001b[0m \u001b[38;5;28;01mexcept\u001b[39;00m:\n\u001b[0;32m    981\u001b[0m     \u001b[38;5;66;03m# Cleanup if the child failed starting.\u001b[39;00m\n",
      "File \u001b[1;32md:\\Programs\\Anaconda3\\envs\\ai-trans\\lib\\subprocess.py:1456\u001b[0m, in \u001b[0;36mPopen._execute_child\u001b[1;34m(self, args, executable, preexec_fn, close_fds, pass_fds, cwd, env, startupinfo, creationflags, shell, p2cread, p2cwrite, c2pread, c2pwrite, errread, errwrite, unused_restore_signals, unused_gid, unused_gids, unused_uid, unused_umask, unused_start_new_session)\u001b[0m\n\u001b[0;32m   1455\u001b[0m \u001b[38;5;28;01mtry\u001b[39;00m:\n\u001b[1;32m-> 1456\u001b[0m     hp, ht, pid, tid \u001b[38;5;241m=\u001b[39m \u001b[43m_winapi\u001b[49m\u001b[38;5;241;43m.\u001b[39;49m\u001b[43mCreateProcess\u001b[49m\u001b[43m(\u001b[49m\u001b[43mexecutable\u001b[49m\u001b[43m,\u001b[49m\u001b[43m \u001b[49m\u001b[43margs\u001b[49m\u001b[43m,\u001b[49m\n\u001b[0;32m   1457\u001b[0m \u001b[43m                             \u001b[49m\u001b[38;5;66;43;03m# no special security\u001b[39;49;00m\n\u001b[0;32m   1458\u001b[0m \u001b[43m                             \u001b[49m\u001b[38;5;28;43;01mNone\u001b[39;49;00m\u001b[43m,\u001b[49m\u001b[43m \u001b[49m\u001b[38;5;28;43;01mNone\u001b[39;49;00m\u001b[43m,\u001b[49m\n\u001b[0;32m   1459\u001b[0m \u001b[43m                             \u001b[49m\u001b[38;5;28;43mint\u001b[39;49m\u001b[43m(\u001b[49m\u001b[38;5;129;43;01mnot\u001b[39;49;00m\u001b[43m \u001b[49m\u001b[43mclose_fds\u001b[49m\u001b[43m)\u001b[49m\u001b[43m,\u001b[49m\n\u001b[0;32m   1460\u001b[0m \u001b[43m                             \u001b[49m\u001b[43mcreationflags\u001b[49m\u001b[43m,\u001b[49m\n\u001b[0;32m   1461\u001b[0m \u001b[43m                             \u001b[49m\u001b[43menv\u001b[49m\u001b[43m,\u001b[49m\n\u001b[0;32m   1462\u001b[0m \u001b[43m                             \u001b[49m\u001b[43mcwd\u001b[49m\u001b[43m,\u001b[49m\n\u001b[0;32m   1463\u001b[0m \u001b[43m                             \u001b[49m\u001b[43mstartupinfo\u001b[49m\u001b[43m)\u001b[49m\n\u001b[0;32m   1464\u001b[0m \u001b[38;5;28;01mfinally\u001b[39;00m:\n\u001b[0;32m   1465\u001b[0m     \u001b[38;5;66;03m# Child is launched. Close the parent's copy of those pipe\u001b[39;00m\n\u001b[0;32m   1466\u001b[0m     \u001b[38;5;66;03m# handles that only the child should have open.  You need\u001b[39;00m\n\u001b[1;32m   (...)\u001b[0m\n\u001b[0;32m   1469\u001b[0m     \u001b[38;5;66;03m# pipe will not close when the child process exits and the\u001b[39;00m\n\u001b[0;32m   1470\u001b[0m     \u001b[38;5;66;03m# ReadFile will hang.\u001b[39;00m\n",
      "\u001b[1;31mFileNotFoundError\u001b[0m: [WinError 2] 系统找不到指定的文件。",
      "\nDuring handling of the above exception, another exception occurred:\n",
      "\u001b[1;31mTesseractNotFoundError\u001b[0m                    Traceback (most recent call last)",
      "Cell \u001b[1;32mIn[3], line 15\u001b[0m\n\u001b[0;32m     13\u001b[0m pdf \u001b[38;5;241m=\u001b[39m FPDF()\n\u001b[0;32m     14\u001b[0m \u001b[38;5;28;01mfor\u001b[39;00m img \u001b[38;5;129;01min\u001b[39;00m images:\n\u001b[1;32m---> 15\u001b[0m     text \u001b[38;5;241m=\u001b[39m \u001b[43mpytesseract\u001b[49m\u001b[38;5;241;43m.\u001b[39;49m\u001b[43mimage_to_string\u001b[49m\u001b[43m(\u001b[49m\u001b[43mimg\u001b[49m\u001b[43m,\u001b[49m\u001b[43m \u001b[49m\u001b[43mlang\u001b[49m\u001b[38;5;241;43m=\u001b[39;49m\u001b[38;5;124;43m\"\u001b[39;49m\u001b[38;5;124;43mchi_sim\u001b[39;49m\u001b[38;5;124;43m\"\u001b[39;49m\u001b[43m)\u001b[49m  \u001b[38;5;66;03m# OCR 识别\u001b[39;00m\n\u001b[0;32m     16\u001b[0m     pdf\u001b[38;5;241m.\u001b[39madd_page()\n\u001b[0;32m     17\u001b[0m     pdf\u001b[38;5;241m.\u001b[39mset_auto_page_break(auto\u001b[38;5;241m=\u001b[39m\u001b[38;5;28;01mTrue\u001b[39;00m, margin\u001b[38;5;241m=\u001b[39m\u001b[38;5;241m15\u001b[39m)\n",
      "File \u001b[1;32md:\\Programs\\Anaconda3\\envs\\ai-trans\\lib\\site-packages\\pytesseract\\pytesseract.py:486\u001b[0m, in \u001b[0;36mimage_to_string\u001b[1;34m(image, lang, config, nice, output_type, timeout)\u001b[0m\n\u001b[0;32m    481\u001b[0m \u001b[38;5;250m\u001b[39m\u001b[38;5;124;03m\"\"\"\u001b[39;00m\n\u001b[0;32m    482\u001b[0m \u001b[38;5;124;03mReturns the result of a Tesseract OCR run on the provided image to string\u001b[39;00m\n\u001b[0;32m    483\u001b[0m \u001b[38;5;124;03m\"\"\"\u001b[39;00m\n\u001b[0;32m    484\u001b[0m args \u001b[38;5;241m=\u001b[39m [image, \u001b[38;5;124m'\u001b[39m\u001b[38;5;124mtxt\u001b[39m\u001b[38;5;124m'\u001b[39m, lang, config, nice, timeout]\n\u001b[1;32m--> 486\u001b[0m \u001b[38;5;28;01mreturn\u001b[39;00m \u001b[43m{\u001b[49m\n\u001b[0;32m    487\u001b[0m \u001b[43m    \u001b[49m\u001b[43mOutput\u001b[49m\u001b[38;5;241;43m.\u001b[39;49m\u001b[43mBYTES\u001b[49m\u001b[43m:\u001b[49m\u001b[43m \u001b[49m\u001b[38;5;28;43;01mlambda\u001b[39;49;00m\u001b[43m:\u001b[49m\u001b[43m \u001b[49m\u001b[43mrun_and_get_output\u001b[49m\u001b[43m(\u001b[49m\u001b[38;5;241;43m*\u001b[39;49m\u001b[43m(\u001b[49m\u001b[43margs\u001b[49m\u001b[43m \u001b[49m\u001b[38;5;241;43m+\u001b[39;49m\u001b[43m \u001b[49m\u001b[43m[\u001b[49m\u001b[38;5;28;43;01mTrue\u001b[39;49;00m\u001b[43m]\u001b[49m\u001b[43m)\u001b[49m\u001b[43m)\u001b[49m\u001b[43m,\u001b[49m\n\u001b[0;32m    488\u001b[0m \u001b[43m    \u001b[49m\u001b[43mOutput\u001b[49m\u001b[38;5;241;43m.\u001b[39;49m\u001b[43mDICT\u001b[49m\u001b[43m:\u001b[49m\u001b[43m \u001b[49m\u001b[38;5;28;43;01mlambda\u001b[39;49;00m\u001b[43m:\u001b[49m\u001b[43m \u001b[49m\u001b[43m{\u001b[49m\u001b[38;5;124;43m'\u001b[39;49m\u001b[38;5;124;43mtext\u001b[39;49m\u001b[38;5;124;43m'\u001b[39;49m\u001b[43m:\u001b[49m\u001b[43m \u001b[49m\u001b[43mrun_and_get_output\u001b[49m\u001b[43m(\u001b[49m\u001b[38;5;241;43m*\u001b[39;49m\u001b[43margs\u001b[49m\u001b[43m)\u001b[49m\u001b[43m}\u001b[49m\u001b[43m,\u001b[49m\n\u001b[0;32m    489\u001b[0m \u001b[43m    \u001b[49m\u001b[43mOutput\u001b[49m\u001b[38;5;241;43m.\u001b[39;49m\u001b[43mSTRING\u001b[49m\u001b[43m:\u001b[49m\u001b[43m \u001b[49m\u001b[38;5;28;43;01mlambda\u001b[39;49;00m\u001b[43m:\u001b[49m\u001b[43m \u001b[49m\u001b[43mrun_and_get_output\u001b[49m\u001b[43m(\u001b[49m\u001b[38;5;241;43m*\u001b[39;49m\u001b[43margs\u001b[49m\u001b[43m)\u001b[49m\u001b[43m,\u001b[49m\n\u001b[0;32m    490\u001b[0m \u001b[43m\u001b[49m\u001b[43m}\u001b[49m\u001b[43m[\u001b[49m\u001b[43moutput_type\u001b[49m\u001b[43m]\u001b[49m\u001b[43m(\u001b[49m\u001b[43m)\u001b[49m\n",
      "File \u001b[1;32md:\\Programs\\Anaconda3\\envs\\ai-trans\\lib\\site-packages\\pytesseract\\pytesseract.py:489\u001b[0m, in \u001b[0;36mimage_to_string.<locals>.<lambda>\u001b[1;34m()\u001b[0m\n\u001b[0;32m    481\u001b[0m \u001b[38;5;250m\u001b[39m\u001b[38;5;124;03m\"\"\"\u001b[39;00m\n\u001b[0;32m    482\u001b[0m \u001b[38;5;124;03mReturns the result of a Tesseract OCR run on the provided image to string\u001b[39;00m\n\u001b[0;32m    483\u001b[0m \u001b[38;5;124;03m\"\"\"\u001b[39;00m\n\u001b[0;32m    484\u001b[0m args \u001b[38;5;241m=\u001b[39m [image, \u001b[38;5;124m'\u001b[39m\u001b[38;5;124mtxt\u001b[39m\u001b[38;5;124m'\u001b[39m, lang, config, nice, timeout]\n\u001b[0;32m    486\u001b[0m \u001b[38;5;28;01mreturn\u001b[39;00m {\n\u001b[0;32m    487\u001b[0m     Output\u001b[38;5;241m.\u001b[39mBYTES: \u001b[38;5;28;01mlambda\u001b[39;00m: run_and_get_output(\u001b[38;5;241m*\u001b[39m(args \u001b[38;5;241m+\u001b[39m [\u001b[38;5;28;01mTrue\u001b[39;00m])),\n\u001b[0;32m    488\u001b[0m     Output\u001b[38;5;241m.\u001b[39mDICT: \u001b[38;5;28;01mlambda\u001b[39;00m: {\u001b[38;5;124m'\u001b[39m\u001b[38;5;124mtext\u001b[39m\u001b[38;5;124m'\u001b[39m: run_and_get_output(\u001b[38;5;241m*\u001b[39margs)},\n\u001b[1;32m--> 489\u001b[0m     Output\u001b[38;5;241m.\u001b[39mSTRING: \u001b[38;5;28;01mlambda\u001b[39;00m: \u001b[43mrun_and_get_output\u001b[49m\u001b[43m(\u001b[49m\u001b[38;5;241;43m*\u001b[39;49m\u001b[43margs\u001b[49m\u001b[43m)\u001b[49m,\n\u001b[0;32m    490\u001b[0m }[output_type]()\n",
      "File \u001b[1;32md:\\Programs\\Anaconda3\\envs\\ai-trans\\lib\\site-packages\\pytesseract\\pytesseract.py:352\u001b[0m, in \u001b[0;36mrun_and_get_output\u001b[1;34m(image, extension, lang, config, nice, timeout, return_bytes)\u001b[0m\n\u001b[0;32m    341\u001b[0m \u001b[38;5;28;01mwith\u001b[39;00m save(image) \u001b[38;5;28;01mas\u001b[39;00m (temp_name, input_filename):\n\u001b[0;32m    342\u001b[0m     kwargs \u001b[38;5;241m=\u001b[39m {\n\u001b[0;32m    343\u001b[0m         \u001b[38;5;124m'\u001b[39m\u001b[38;5;124minput_filename\u001b[39m\u001b[38;5;124m'\u001b[39m: input_filename,\n\u001b[0;32m    344\u001b[0m         \u001b[38;5;124m'\u001b[39m\u001b[38;5;124moutput_filename_base\u001b[39m\u001b[38;5;124m'\u001b[39m: temp_name,\n\u001b[1;32m   (...)\u001b[0m\n\u001b[0;32m    349\u001b[0m         \u001b[38;5;124m'\u001b[39m\u001b[38;5;124mtimeout\u001b[39m\u001b[38;5;124m'\u001b[39m: timeout,\n\u001b[0;32m    350\u001b[0m     }\n\u001b[1;32m--> 352\u001b[0m     run_tesseract(\u001b[38;5;241m*\u001b[39m\u001b[38;5;241m*\u001b[39mkwargs)\n\u001b[0;32m    353\u001b[0m     \u001b[38;5;28;01mreturn\u001b[39;00m _read_output(\n\u001b[0;32m    354\u001b[0m         \u001b[38;5;124mf\u001b[39m\u001b[38;5;124m\"\u001b[39m\u001b[38;5;132;01m{\u001b[39;00mkwargs[\u001b[38;5;124m'\u001b[39m\u001b[38;5;124moutput_filename_base\u001b[39m\u001b[38;5;124m'\u001b[39m]\u001b[38;5;132;01m}\u001b[39;00m\u001b[38;5;132;01m{\u001b[39;00mextsep\u001b[38;5;132;01m}\u001b[39;00m\u001b[38;5;132;01m{\u001b[39;00mextension\u001b[38;5;132;01m}\u001b[39;00m\u001b[38;5;124m\"\u001b[39m,\n\u001b[0;32m    355\u001b[0m         return_bytes,\n\u001b[0;32m    356\u001b[0m     )\n",
      "File \u001b[1;32md:\\Programs\\Anaconda3\\envs\\ai-trans\\lib\\site-packages\\pytesseract\\pytesseract.py:280\u001b[0m, in \u001b[0;36mrun_tesseract\u001b[1;34m(input_filename, output_filename_base, extension, lang, config, nice, timeout)\u001b[0m\n\u001b[0;32m    278\u001b[0m         \u001b[38;5;28;01mraise\u001b[39;00m\n\u001b[0;32m    279\u001b[0m     \u001b[38;5;28;01melse\u001b[39;00m:\n\u001b[1;32m--> 280\u001b[0m         \u001b[38;5;28;01mraise\u001b[39;00m TesseractNotFoundError()\n\u001b[0;32m    282\u001b[0m \u001b[38;5;28;01mwith\u001b[39;00m timeout_manager(proc, timeout) \u001b[38;5;28;01mas\u001b[39;00m error_string:\n\u001b[0;32m    283\u001b[0m     \u001b[38;5;28;01mif\u001b[39;00m proc\u001b[38;5;241m.\u001b[39mreturncode:\n",
      "\u001b[1;31mTesseractNotFoundError\u001b[0m: tesseract is not installed or it's not in your PATH. See README file for more information."
     ]
    }
   ],
   "source": [
    "from pdf2image import convert_from_path\n",
    "import pytesseract\n",
    "from PIL import Image\n",
    "from fpdf import FPDF\n",
    "\n",
    "pdf_path = r\"C:\\Users\\wangz\\Downloads\\技术架构知识图谱\\用友商业创新平台YonBIP白皮书.pdf\"\n",
    "output_pdf_path = r\"NEW_用友商业创新平台YonBIP白皮书.pdf\"\n",
    "\n",
    "# 将 PDF 转换为图片\n",
    "images = convert_from_path(pdf_path, poppler_path=r\"D:\\Programs\\poppler-24.08.0\\Library\\bin\")\n",
    "\n",
    "# 创建一个新的 PDF\n",
    "pdf = FPDF()\n",
    "for img in images:\n",
    "    text = pytesseract.image_to_string(img, lang=\"chi_sim\")  # OCR 识别\n",
    "    pdf.add_page()\n",
    "    pdf.set_auto_page_break(auto=True, margin=15)\n",
    "    pdf.set_font(\"Arial\", size=12)\n",
    "    pdf.multi_cell(0, 10, text)\n",
    "\n",
    "# 保存新的 PDF\n",
    "pdf.output(output_pdf_path)\n",
    "print(\"OCR 处理完成，新的 PDF 保存为:\", output_pdf_path)"
   ]
  },
  {
   "cell_type": "code",
   "execution_count": 6,
   "metadata": {},
   "outputs": [
    {
     "name": "stderr",
     "output_type": "stream",
     "text": [
      "Traceback (most recent call last):\n",
      "  File \"D:\\Programs\\Anaconda3\\envs\\ai-trans\\lib\\runpy.py\", line 196, in _run_module_as_main\n",
      "    return _run_code(code, main_globals, None,\n",
      "  File \"D:\\Programs\\Anaconda3\\envs\\ai-trans\\lib\\runpy.py\", line 86, in _run_code\n",
      "    exec(code, run_globals)\n",
      "  File \"D:\\Programs\\Anaconda3\\envs\\ai-trans\\Scripts\\pdf2zh.exe\\__main__.py\", line 7, in <module>\n",
      "    sys.exit(main())\n",
      "  File \"D:\\Programs\\Anaconda3\\envs\\ai-trans\\lib\\site-packages\\pdf2zh\\pdf2zh.py\", line 279, in main\n",
      "    extract_text(**vars(parsed_args))\n",
      "  File \"D:\\Programs\\Anaconda3\\envs\\ai-trans\\lib\\site-packages\\pdf2zh\\pdf2zh.py\", line 121, in extract_text\n",
      "    obj_patch: dict = pdf2zh.high_level.extract_text_to_fp(fp, **locals())\n",
      "  File \"D:\\Programs\\Anaconda3\\envs\\ai-trans\\lib\\site-packages\\pdf2zh\\high_level.py\", line 99, in extract_text_to_fp\n",
      "    device = TextConverter(\n",
      "  File \"D:\\Programs\\Anaconda3\\envs\\ai-trans\\lib\\site-packages\\pdf2zh\\converter.py\", line 391, in __init__\n",
      "    service, lang_out, lang_in, param[1]\n",
      "IndexError: list index out of range\n"
     ]
    }
   ],
   "source": [
    "from dotenv import load_dotenv\n",
    "load_dotenv()\n",
    "\n",
    "!pdf2zh \"C:\\Users\\wangz\\Downloads\\技术架构知识图谱\\用友商业创新平台YonBIP白皮书.pdf\" -li zh -lo en -s openai"
   ]
  },
  {
   "cell_type": "code",
   "execution_count": 2,
   "metadata": {},
   "outputs": [
    {
     "data": {
      "text/plain": [
       "(0, 'matahari\\n')"
      ]
     },
     "execution_count": 2,
     "metadata": {},
     "output_type": "execute_result"
    }
   ],
   "source": [
    "from openai import OpenAI\n",
    "from dotenv import load_dotenv\n",
    "\n",
    "load_dotenv()\n",
    "client = OpenAI(base_url=\"https://generativelanguage.googleapis.com/v1beta/\", api_key=\"\")\n",
    "target_column = \"印尼语\"\n",
    "\n",
    "def generate_text(index, data):\n",
    "    if not pd.isnull(data[target_column]):\n",
    "        return index, data[target_column]\n",
    "    completion = client.chat.completions.create(\n",
    "        model='gemini-1.5-flash',\n",
    "        messages=[\n",
    "            {\"role\": \"user\", \"content\": f\"Translate English to Chinese: {str(data['English(译)'])}, please directly translate it and do not output any extra content\"},\n",
    "            {\"role\": \"assistant\", \"content\": str(data['简体中文(源)'])},\n",
    "            {\"role\": \"user\", \"content\": f\"Translate English to Traditional Chinese: {str(data['English(译)'])}, please directly translate it and do not output any extra content\"},\n",
    "            {\"role\": \"assistant\", \"content\": str(data['繁体中文（译）'])},\n",
    "            {\"role\": \"user\", \"content\": f\"Translate English to {target_column}: {str(data['English(译)'])}, please directly translate it and do not output any extra content\"}\n",
    "        ],\n",
    "        temperature=0\n",
    "    )\n",
    "    return index, completion.choices[0].message.content\n",
    "\n",
    "from tqdm import tqdm\n",
    "from concurrent.futures import ThreadPoolExecutor, as_completed\n",
    "import pandas as pd\n",
    "to_fix = pd.read_excel(r\"D:\\Projects\\ai-translator\\src\\友互通\\友互通-全.xlsx\")\n",
    "\n",
    "with ThreadPoolExecutor(max_workers=1000) as executor:\n",
    "    futures = {executor.submit(generate_text, index, row) for index, row in to_fix.iterrows()}\n",
    "\n",
    "    for future in tqdm(as_completed(futures), total=len(futures)):\n",
    "        index, output = future.result()\n",
    "\n",
    "        if output is not None:\n",
    "            to_fix.at[index, target_column] = output\n",
    "\n",
    "# 保存最终结果到 Excel 文件\n",
    "to_fix.to_excel(r\"D:\\Projects\\ai-translator\\src\\友互通\\友互通-全.xlsx\", index=False)"
   ]
  },
  {
   "cell_type": "markdown",
   "metadata": {},
   "source": [
    "# 翻译123种语言"
   ]
  },
  {
   "cell_type": "markdown",
   "metadata": {},
   "source": [
    "初翻"
   ]
  },
  {
   "cell_type": "code",
   "execution_count": 2,
   "metadata": {},
   "outputs": [
    {
     "name": "stderr",
     "output_type": "stream",
     "text": [
      "100%|██████████| 14640/14640 [02:03<00:00, 118.87it/s]\n"
     ]
    }
   ],
   "source": [
    "import pandas as pd\n",
    "from openai import OpenAI\n",
    "import os\n",
    "from dotenv import load_dotenv\n",
    "from concurrent.futures import ThreadPoolExecutor, as_completed\n",
    "from tqdm import tqdm\n",
    "import threading\n",
    "\n",
    "# Load environment variables and set OpenAI API key\n",
    "load_dotenv()\n",
    "client = OpenAI()\n",
    "# Read the Excel file into a pandas DataFrame\n",
    "data = pd.read_excel(r\"C:\\Users\\wangz\\Downloads\\20241203 123种语种翻译数据.xlsx\")\n",
    "\n",
    "# Define the columns and rows to process\n",
    "columns = data.columns.to_list()[4:]  # Exclude the first 4 columns\n",
    "rows = data.index[2:]  # Start from the third row\n",
    "\n",
    "# Prepare the list of tasks for translation\n",
    "tasks = []\n",
    "for column in columns:\n",
    "    for row_index in rows:\n",
    "        text_to_translate = data.at[row_index, 'zh_CN']\n",
    "        tasks.append((row_index, column, text_to_translate))\n",
    "\n",
    "# Initialize a lock for thread-safe DataFrame operations\n",
    "data_lock = threading.Lock()\n",
    "max_workers = 2000  # Adjust the number of threads as needed\n",
    "\n",
    "# Define the function to translate a single cell\n",
    "def translate_cell(task):\n",
    "    row_index, column, text_to_translate = task\n",
    "    messages = [\n",
    "        {\"role\": \"user\", \"content\": f\"Translate '简体中文' to {column}, translate it directly and without adding any extra content.\"},\n",
    "        {\"role\": \"assistant\", \"content\": str(data[column][1])},\n",
    "        {\"role\": \"user\", \"content\": f\"Translate '{text_to_translate}' to {column}, translate it directly and without adding any extra content.\"}\n",
    "    ]\n",
    "    try:\n",
    "        completion =  client.chat.completions.create(\n",
    "            model=\"gpt-4o-mini\",\n",
    "            messages=messages,\n",
    "            temperature=0\n",
    "        )\n",
    "        translated_text = completion.choices[0].message.content\n",
    "        # Write the translated text back to the DataFrame in a thread-safe manner\n",
    "        with data_lock:\n",
    "            data.at[row_index, column] = translated_text\n",
    "        return (row_index, column, translated_text)\n",
    "    except Exception as e:\n",
    "        print(f\"Error translating row {row_index}, column {column}: {e}\")\n",
    "        return (row_index, column, None)\n",
    "\n",
    "# Execute the translation tasks using a ThreadPoolExecutor and display a progress bar\n",
    "with ThreadPoolExecutor(max_workers=max_workers) as executor:\n",
    "    futures = [executor.submit(translate_cell, task) for task in tasks]\n",
    "    for future in tqdm(as_completed(futures), total=len(futures)):\n",
    "        pass  # The results are handled within the translate_cell function\n",
    "\n",
    "# Save the translated DataFrame to a new Excel file\n",
    "data.to_excel(\"translated_data.xlsx\", index=False)"
   ]
  },
  {
   "cell_type": "code",
   "execution_count": 1,
   "metadata": {},
   "outputs": [
    {
     "name": "stderr",
     "output_type": "stream",
     "text": [
      "100%|██████████| 120/120 [00:03<00:00, 32.88it/s] \n"
     ]
    }
   ],
   "source": [
    "import pandas as pd\n",
    "from openai import OpenAI\n",
    "import os\n",
    "from dotenv import load_dotenv\n",
    "from concurrent.futures import ThreadPoolExecutor, as_completed\n",
    "from tqdm import tqdm\n",
    "import threading\n",
    "\n",
    "# Load environment variables and set OpenAI API key\n",
    "load_dotenv()\n",
    "client = OpenAI()\n",
    "# Read the Excel file into a pandas DataFrame\n",
    "data = pd.read_excel(r\"C:\\Users\\wangz\\Documents\\WeChat Files\\wxid_eet1drkwse4k22\\FileStorage\\File\\2024-12\\20241203 123种语种翻译数据-GPT 确认.xlsx\")\n",
    "\n",
    "# Define the columns and rows to process\n",
    "columns = data.columns.to_list()[4:]  # Exclude the first 4 columns\n",
    "rows = data.index[2:]  # Start from the third row\n",
    "\n",
    "# Prepare the list of tasks for translation\n",
    "tasks = []\n",
    "for column in columns:\n",
    "    for row_index in rows:\n",
    "        text_to_translate = data.at[row_index, 'zh_CN']\n",
    "        if text_to_translate == '挪威语':\n",
    "            tasks.append((row_index, column, text_to_translate))\n",
    "            break  # Only translate the first occurrence\n",
    "\n",
    "# Initialize a lock for thread-safe DataFrame operations\n",
    "data_lock = threading.Lock()\n",
    "max_workers = 2000  # Adjust the number of threads as needed\n",
    "\n",
    "# Define the function to translate a single cell\n",
    "def translate_cell(task):\n",
    "    row_index, column, text_to_translate = task\n",
    "    messages = [\n",
    "        {\"role\": \"user\", \"content\": f\"Translate '简体中文' to {column}, translate it directly and without adding any extra content.\"},\n",
    "        {\"role\": \"assistant\", \"content\": str(data[column][1])},\n",
    "        {\"role\": \"user\", \"content\": f\"Translate '{text_to_translate}' to {column}, translate it directly and without adding any extra content.\"}\n",
    "    ]\n",
    "    try:\n",
    "        completion =  client.chat.completions.create(\n",
    "            model=\"gpt-4o\",\n",
    "            messages=messages,\n",
    "            temperature=0\n",
    "        )\n",
    "        translated_text = completion.choices[0].message.content\n",
    "        # Write the translated text back to the DataFrame in a thread-safe manner\n",
    "        with data_lock:\n",
    "            data.at[row_index, column] = translated_text\n",
    "        return (row_index, column, translated_text)\n",
    "    except Exception as e:\n",
    "        print(f\"Error translating row {row_index}, column {column}: {e}\")\n",
    "        return (row_index, column, None)\n",
    "\n",
    "# Execute the translation tasks using a ThreadPoolExecutor and display a progress bar\n",
    "with ThreadPoolExecutor(max_workers=max_workers) as executor:\n",
    "    futures = [executor.submit(translate_cell, task) for task in tasks]\n",
    "    for future in tqdm(as_completed(futures), total=len(futures)):\n",
    "        pass  # The results are handled within the translate_cell function\n",
    "\n",
    "# Save the translated DataFrame to a new Excel file\n",
    "data.to_excel(\"translated_data.xlsx\", index=False)"
   ]
  },
  {
   "cell_type": "markdown",
   "metadata": {},
   "source": [
    "# 精翻"
   ]
  },
  {
   "cell_type": "code",
   "execution_count": 6,
   "metadata": {},
   "outputs": [
    {
     "name": "stderr",
     "output_type": "stream",
     "text": [
      "100%|██████████| 14640/14640 [00:01<00:00, 14606.36it/s] \n"
     ]
    }
   ],
   "source": [
    "import pandas as pd\n",
    "from openai import OpenAI\n",
    "import os\n",
    "from dotenv import load_dotenv\n",
    "from concurrent.futures import ThreadPoolExecutor, as_completed\n",
    "from tqdm import tqdm\n",
    "import threading\n",
    "\n",
    "# Load environment variables and set OpenAI API key\n",
    "load_dotenv()\n",
    "client = OpenAI()\n",
    "# Read the Excel file into a pandas DataFrame\n",
    "data = pd.read_excel(r\"D:\\Projects\\ai-translator\\src\\translated_data.xlsx\")\n",
    "\n",
    "# Define the columns and rows to process\n",
    "columns = data.columns.to_list()[4:]  # Exclude the first 4 columns\n",
    "rows = data.index[2:]  # Start from the third row\n",
    "\n",
    "# Prepare the list of tasks for translation\n",
    "tasks = []\n",
    "for column in columns:\n",
    "    for row_index in rows:\n",
    "        text_to_translate = data.at[row_index, 'zh_CN']\n",
    "        tasks.append((row_index, column, text_to_translate))\n",
    "\n",
    "# Initialize a lock for thread-safe DataFrame operations\n",
    "data_lock = threading.Lock()\n",
    "max_workers = 2000  # Adjust the number of threads as needed\n",
    "\n",
    "# Define the function to translate a single cell\n",
    "def translate_cell(task):\n",
    "    row_index, column, text_to_translate = task\n",
    "    if text_to_translate.strip() == data.at[row_index, column].strip():\n",
    "        messages = [\n",
    "            {\"role\": \"user\", \"content\": f\"Translate '简体中文' to {column}, translate it directly and without adding any extra content.\"},\n",
    "            {\"role\": \"assistant\", \"content\": str(data[column][1])},\n",
    "            {\"role\": \"user\", \"content\": f\"Translate '{text_to_translate}' to {column}, translate it directly and without adding any extra content.\"}\n",
    "        ]\n",
    "        try:\n",
    "            completion =  client.chat.completions.create(\n",
    "                model=\"gpt-4o\",\n",
    "                messages=messages,\n",
    "                temperature=0\n",
    "            )\n",
    "            translated_text = completion.choices[0].message.content\n",
    "            # Write the translated text back to the DataFrame in a thread-safe manner\n",
    "            with data_lock:\n",
    "                data.at[row_index, column] = translated_text\n",
    "            return (row_index, column, translated_text)\n",
    "        except Exception as e:\n",
    "            print(f\"Error translating row {row_index}, column {column}: {e}\")\n",
    "            return (row_index, column, None)\n",
    "    else:\n",
    "        return (row_index, column, data.at[row_index, column])\n",
    "\n",
    "# Execute the translation tasks using a ThreadPoolExecutor and display a progress bar\n",
    "with ThreadPoolExecutor(max_workers=max_workers) as executor:\n",
    "    futures = [executor.submit(translate_cell, task) for task in tasks]\n",
    "    for future in tqdm(as_completed(futures), total=len(futures)):\n",
    "        pass  # The results are handled within the translate_cell function\n",
    "\n",
    "# Save the translated DataFrame to a new Excel file\n",
    "data.to_excel(\"translated_data_1.xlsx\", index=False)"
   ]
  },
  {
   "cell_type": "markdown",
   "metadata": {},
   "source": [
    "# 统计文件夹下的文件数"
   ]
  },
  {
   "cell_type": "code",
   "execution_count": 14,
   "metadata": {},
   "outputs": [
    {
     "name": "stdout",
     "output_type": "stream",
     "text": [
      "文件总数为: 5001\n"
     ]
    }
   ],
   "source": [
    "import os\n",
    "\n",
    "def count_files(folder_path):\n",
    "    total_files = 0\n",
    "    for root, dirs, files in os.walk(folder_path):\n",
    "        total_files += len(files)  # 统计当前目录的文件数量\n",
    "    return total_files\n",
    "\n",
    "# 输入文件夹路径\n",
    "folder_path = r\"C:\\Users\\wangz\\Documents\\WeChat Files\\wxid_eet1drkwse4k22\\FileStorage\\File\\2024-12\\高级版2312帮助文档（English）\\高级版2312帮助文档（English）\"\n",
    "file_count = count_files(folder_path)\n",
    "print(f\"文件总数为: {file_count}\")\n"
   ]
  },
  {
   "cell_type": "markdown",
   "metadata": {},
   "source": [
    "# 翻译越南语"
   ]
  },
  {
   "cell_type": "code",
   "execution_count": null,
   "metadata": {},
   "outputs": [],
   "source": [
    "from openai import OpenAI\n",
    "from dotenv import load_dotenv\n",
    "import zhconv\n",
    "\n",
    "load_dotenv()\n",
    "client = OpenAI()\n",
    "target_columns = [\n",
    "    \"目标语言\"\n",
    "]\n",
    "\n",
    "for target_column in target_columns:\n",
    "    dictionary = {}\n",
    "\n",
    "    def generate_text(index, data):\n",
    "        if not pd.isnull(data[target_column]):\n",
    "            dictionary[str(data['English(译)'])] = data[target_column]\n",
    "            return index, data[target_column]\n",
    "        if str(data['English(译)']) in dictionary.keys():\n",
    "            return index, dictionary[str(data['English(译)'])]\n",
    "        if target_column == \"繁体中文（译）\":\n",
    "            return index, zhconv.convert(str(data['简体中文(源)']), 'zh-tw')\n",
    "        completion = client.chat.completions.create(\n",
    "            model='gpt-4o-mini',\n",
    "            messages=[\n",
    "                {\"role\": \"user\", \"content\": f\"Translate English to Chinese: {str(data['English(译)'])}, please directly translate it and do not output any extra content\"},\n",
    "                {\"role\": \"assistant\", \"content\": str(data['简体中文(源)'])},\n",
    "                {\"role\": \"user\", \"content\": f\"Translate English to Traditional Chinese: {str(data['English(译)'])}, please directly translate it and do not output any extra content\"},\n",
    "                {\"role\": \"assistant\", \"content\": str(data[\"繁体中文（译）\"])},\n",
    "                {\"role\": \"user\", \"content\": f\"Translate English to {target_column}: {str(data['English(译)'])}, please directly translate it and do not output any extra content\"}\n",
    "            ],\n",
    "            temperature=0\n",
    "        )\n",
    "        dictionary[str(data['English(译)'])] = completion.choices[0].message.content\n",
    "        return index, completion.choices[0].message.content\n",
    "\n",
    "    from tqdm import tqdm\n",
    "    from concurrent.futures import ThreadPoolExecutor, as_completed\n",
    "    import pandas as pd\n",
    "    to_fix = pd.read_excel(r\"C:\\Users\\wangz\\Downloads\\前端词条补充翻译-20241227\\TINPERNEXTPRO-FE_en_US20241226203251.xlsx\")\n",
    "\n",
    "    with ThreadPoolExecutor(max_workers=1000) as executor:\n",
    "        futures = {executor.submit(generate_text, index, row) for index, row in to_fix.iterrows()}\n",
    "\n",
    "        for future in tqdm(as_completed(futures), total=len(futures)):\n",
    "            index, output = future.result()\n",
    "\n",
    "            if output is not None:\n",
    "                to_fix.at[index, target_column] = output\n",
    "\n",
    "    # 保存最终结果到 Excel 文件\n",
    "    to_fix.to_excel(r\"C:\\Users\\wangz\\Downloads\\前端词条补充翻译-20241227\\TINPERNEXTPRO-FE_en_US20241226203251.xlsx\", index=False)"
   ]
  },
  {
   "cell_type": "markdown",
   "metadata": {},
   "source": [
    "# 去重"
   ]
  },
  {
   "cell_type": "code",
   "execution_count": 1,
   "metadata": {},
   "outputs": [
    {
     "name": "stdout",
     "output_type": "stream",
     "text": [
      "清理后的文件已保存为: Cleaned_Chinese_Column.xlsx\n"
     ]
    }
   ],
   "source": [
    "import pandas as pd\n",
    "\n",
    "# 读取 Excel 文件\n",
    "file_path = r\"C:\\Users\\wangz\\Desktop\\新建 XLSX 工作表.xlsx\"  # 替换为你的文件路径\n",
    "df = pd.read_excel(file_path)\n",
    "\n",
    "# 删除 Chinese 列中的重复项，仅保留最后一个\n",
    "df_cleaned = df.drop_duplicates(subset=\"Chinese\", keep=\"last\")\n",
    "\n",
    "# 保存清理后的数据到新 Excel 文件\n",
    "output_path = \"Cleaned_Chinese_Column.xlsx\"\n",
    "df_cleaned.to_excel(output_path, index=False)\n",
    "\n",
    "print(f\"清理后的文件已保存为: {output_path}\")\n"
   ]
  }
 ],
 "metadata": {
  "kernelspec": {
   "display_name": "ai-trans",
   "language": "python",
   "name": "python3"
  },
  "language_info": {
   "codemirror_mode": {
    "name": "ipython",
    "version": 3
   },
   "file_extension": ".py",
   "mimetype": "text/x-python",
   "name": "python",
   "nbconvert_exporter": "python",
   "pygments_lexer": "ipython3",
   "version": "3.10.16"
  }
 },
 "nbformat": 4,
 "nbformat_minor": 2
}
